{
 "cells": [
  {
   "cell_type": "code",
   "execution_count": 822,
   "id": "c1d330db",
   "metadata": {},
   "outputs": [],
   "source": [
    "import os \n",
    "import numpy as np \n",
    "from functools import wraps\n",
    "import time\n",
    "import multiprocessing\n"
   ]
  },
  {
   "cell_type": "code",
   "execution_count": 379,
   "id": "fd0d17ef",
   "metadata": {},
   "outputs": [],
   "source": [
    "from collections import namedtuple\n",
    "Item = namedtuple(\"Item\", ['index', 'value', 'weight'])"
   ]
  },
  {
   "cell_type": "code",
   "execution_count": 380,
   "id": "d6cf68b0",
   "metadata": {},
   "outputs": [],
   "source": [
    "data_files = os.listdir('Data')"
   ]
  },
  {
   "cell_type": "code",
   "execution_count": 707,
   "id": "91bf133a",
   "metadata": {},
   "outputs": [],
   "source": [
    "def timeit(func):\n",
    "    @wraps(func)\n",
    "    def timeit_wrapper(*args, **kwargs):\n",
    "        start_time = time.perf_counter()\n",
    "        result = func(*args, **kwargs)\n",
    "        end_time = time.perf_counter()\n",
    "        total_time = end_time - start_time\n",
    "        print(f'Function {func.__name__}{args} {kwargs} Took {total_time:.4f} seconds')\n",
    "        return result\n",
    "    return timeit_wrapper"
   ]
  },
  {
   "cell_type": "code",
   "execution_count": 381,
   "id": "13367639",
   "metadata": {},
   "outputs": [
    {
     "data": {
      "text/plain": [
       "['ks_60_0',\n",
       " 'ks_4_0',\n",
       " 'ks_45_0',\n",
       " 'ks_30_0',\n",
       " 'ks_lecture_dp_2',\n",
       " 'ks_10000_0',\n",
       " 'ks_300_0',\n",
       " 'ks_200_0',\n",
       " 'ks_100_1',\n",
       " 'ks_100_0',\n",
       " 'ks_200_1',\n",
       " 'ks_500_0',\n",
       " 'ks_400_0',\n",
       " 'ks_lecture_dp_1',\n",
       " 'ks_19_0',\n",
       " 'ks_100_2',\n",
       " 'ks_106_0',\n",
       " 'ks_40_0',\n",
       " 'ks_82_0',\n",
       " 'ks_50_0',\n",
       " 'ks_50_1',\n",
       " 'ks_1000_0']"
      ]
     },
     "execution_count": 381,
     "metadata": {},
     "output_type": "execute_result"
    }
   ],
   "source": [
    "data_files"
   ]
  },
  {
   "cell_type": "code",
   "execution_count": 1059,
   "id": "78667c83",
   "metadata": {},
   "outputs": [],
   "source": [
    "input_file = open('Data/'+data_files[0])\n",
    "input_data = input_file.read()"
   ]
  },
  {
   "cell_type": "code",
   "execution_count": 1060,
   "id": "9a2aa274",
   "metadata": {},
   "outputs": [],
   "source": [
    "items,capacity,item_count = parse_input(input_data)"
   ]
  },
  {
   "cell_type": "code",
   "execution_count": 1061,
   "id": "584ca6df",
   "metadata": {},
   "outputs": [
    {
     "data": {
      "text/plain": [
       "(60, 100000)"
      ]
     },
     "execution_count": 1061,
     "metadata": {},
     "output_type": "execute_result"
    }
   ],
   "source": [
    "item_count,capacity"
   ]
  },
  {
   "cell_type": "code",
   "execution_count": 1062,
   "id": "825612d5",
   "metadata": {},
   "outputs": [],
   "source": [
    "def greedy(items,capacity):\n",
    "    items = np.array(items)\n",
    "    items_ranked_by_value_by_weight = items[np.argsort([-i[1]/i[2] for i in items])]\n",
    "    i = 0\n",
    "    free_space = capacity\n",
    "    estimate = 0\n",
    "    selected = []\n",
    "    while free_space!=0 and i < len(items):\n",
    "        item = items_ranked_by_value_by_weight[i]\n",
    "        i+=1\n",
    "        value = item[1]\n",
    "        weight = item[2]\n",
    "        index = item[0]\n",
    "        if weight<free_space:\n",
    "            estimate += value\n",
    "            free_space -= weight\n",
    "            selected.append(index)\n",
    "        else: \n",
    "            continue\n",
    "        \n",
    "    return estimate,selected"
   ]
  },
  {
   "cell_type": "code",
   "execution_count": 1063,
   "id": "aa8a78f0",
   "metadata": {},
   "outputs": [],
   "source": [
    "def dp(n,k,dp_array,items):\n",
    "    if k<0:\n",
    "        return -1e6\n",
    "    else:\n",
    "        index = n-1\n",
    "        weight = items[index][2]\n",
    "        value = items[index][1]\n",
    "        if index==0:\n",
    "            result = 0 if k<weight else value\n",
    "            dp_array[index,k-1] = result\n",
    "            return result\n",
    "        else:\n",
    "            result = max(dp(n-1,k,dp_array,items),dp(n-1,k-weight,dp_array,items)+value)\n",
    "            dp_array[index,k-1] = result\n",
    "            return  result\n"
   ]
  },
  {
   "cell_type": "code",
   "execution_count": 1064,
   "id": "8758e41e",
   "metadata": {},
   "outputs": [],
   "source": [
    "def back_track(dp_array,remainder,result_back_tracking):\n",
    "    weight_last = 0\n",
    "    while remainder!=0:\n",
    "        last = np.where(dp_array[:,-1-weight_last]==remainder)[0][0]\n",
    "        value_last = items[last][1]\n",
    "        weight_last += items[last][2]\n",
    "        remainder = remainder - value_last\n",
    "        result_back_tracking.append(last)"
   ]
  },
  {
   "cell_type": "code",
   "execution_count": 1065,
   "id": "3b243295",
   "metadata": {},
   "outputs": [],
   "source": [
    "def parse_input(input_data):\n",
    "    \n",
    "    # parse the input\n",
    "    lines = input_data.split('\\n')\n",
    "\n",
    "    firstLine = lines[0].split()\n",
    "    item_count = int(firstLine[0])\n",
    "    capacity = int(firstLine[1])\n",
    "\n",
    "    items = []\n",
    "\n",
    "    for i in range(1, item_count+1):\n",
    "        line = lines[i]\n",
    "        parts = line.split()\n",
    "        items.append(Item(i-1, int(parts[0]), int(parts[1])))\n",
    "\n",
    "\n",
    "    return items,capacity,item_count"
   ]
  },
  {
   "cell_type": "code",
   "execution_count": 1066,
   "id": "9358f212",
   "metadata": {},
   "outputs": [],
   "source": [
    "items,capacity,item_count = parse_input(input_data)"
   ]
  },
  {
   "cell_type": "code",
   "execution_count": 1079,
   "id": "80c4a679",
   "metadata": {},
   "outputs": [],
   "source": [
    "@timeit\n",
    "def solve_it(input_data,cutoff=10,capacity_override=None):\n",
    "    start_time_global = time.time()\n",
    "    items,capacity,item_count = parse_input(input_data)\n",
    "    print(item_count)\n",
    "    if capacity_override : capacity = capacity_override\n",
    "    optimal = 1\n",
    "    #if  < \n",
    "    \n",
    "    # DP solution \n",
    "    # Try DP solution if takes less than 10min \n",
    "    dp_array = np.zeros((item_count,capacity))\n",
    "    # Test run\n",
    "    start_time = time.time()\n",
    "    dp(item_count,30000,dp_array,items)\n",
    "    run_time = (time.time() - start_time)\n",
    "    print(\"--- %s seconds ---\" % run_time)\n",
    "    estimated_runtime = run_time * capacity/30000\n",
    "    print(\"Estimated runtime {}\".format(estimated_runtime))\n",
    "    if estimated_runtime > cutoff:\n",
    "        print('Would take too long to run dp solution. Resorting to greedy')\n",
    "        greedy_solution,selected = greedy(items,capacity)\n",
    "        optimal = 0\n",
    "        solution = greedy_solution\n",
    "    else:\n",
    "    \n",
    "        dp_array = np.zeros((item_count,capacity))\n",
    "        dp_solution = dp(item_count,capacity,dp_array,items)\n",
    "\n",
    "        result_back_tracking = []\n",
    "        back_track(dp_array,dp_solution,result_back_tracking)\n",
    "        solution = dp_solution\n",
    "        selected = result_back_tracking\n",
    "\n",
    "    to_return = np.zeros(item_count)\n",
    "    to_return[selected] = 1\n",
    "    to_return = to_return.astype(int)\n",
    "\n",
    "    \n",
    "    # prepare the solution in the specified output format\n",
    "    output_data = str(solution) + ' ' + str(optimal) + '\\n'\n",
    "    output_data += ' '.join(map(str, to_return))\n",
    "    \n",
    "    #print('With input data :',input_data)\n",
    "    #print('I return : ')\n",
    "    \n",
    "    return output_data,dp_array,time.time()-start_time_global"
   ]
  },
  {
   "cell_type": "code",
   "execution_count": 1080,
   "id": "df8997e6",
   "metadata": {},
   "outputs": [
    {
     "name": "stdout",
     "output_type": "stream",
     "text": [
      "60\n",
      "--- 0.007522106170654297 seconds ---\n",
      "Estimated runtime 0.025073687235514324\n",
      "Function solve_it('60 100000\\n90000 90001\\n89750 89751\\n10001 10002\\n89500 89501\\n10252 10254\\n89250 89251\\n10503 10506\\n89000 89001\\n10754 10758\\n88750 88751\\n11005 11010\\n88500 88501\\n11256 11262\\n88250 88251\\n11507 11514\\n88000 88001\\n11758 11766\\n87750 87751\\n12009 12018\\n87500 87501\\n12260 12270\\n87250 87251\\n12511 12522\\n87000 87001\\n12762 12774\\n86750 86751\\n13013 13026\\n86500 86501\\n13264 13278\\n86250 86251\\n13515 13530\\n86000 86001\\n13766 13782\\n85750 85751\\n14017 14034\\n85500 85501\\n14268 14286\\n85250 85251\\n14519 14538\\n85000 85001\\n14770 14790\\n84750 84751\\n15021 15042\\n84500 84501\\n15272 15294\\n84250 84251\\n15523 15546\\n84000 84001\\n15774 15798\\n83750 83751\\n16025 16050\\n83500 83501\\n16276 16302\\n83250 83251\\n16527 16554\\n83000 83001\\n16778 16806\\n82750 82751\\n17029 17058\\n82500 82501\\n', 10000000000.0) {} Took 5.1521 seconds\n",
      "99837 1\n",
      "0 0 0 0 0 0 0 0 0 0 0 0 0 0 1 0 1 0 1 0 1 0 1 0 0 0 1 0 1 0 1 0 0 0 0 0 0 0 0 0 0 0 0 0 0 0 0 0 0 0 0 0 0 0 0 0 0 0 0 0\n"
     ]
    }
   ],
   "source": [
    "output_data,dp_array,runtime = solve_it(input_data,1e10)\n",
    "print(output_data)"
   ]
  },
  {
   "cell_type": "code",
   "execution_count": 1071,
   "id": "cd9159f2",
   "metadata": {},
   "outputs": [
    {
     "name": "stdout",
     "output_type": "stream",
     "text": [
      "60\n",
      "--- 0.0001957416534423828 seconds ---\n",
      "Estimated runtime 0.001957416534423828\n",
      "Function solve_it('60 100000\\n90000 90001\\n89750 89751\\n10001 10002\\n89500 89501\\n10252 10254\\n89250 89251\\n10503 10506\\n89000 89001\\n10754 10758\\n88750 88751\\n11005 11010\\n88500 88501\\n11256 11262\\n88250 88251\\n11507 11514\\n88000 88001\\n11758 11766\\n87750 87751\\n12009 12018\\n87500 87501\\n12260 12270\\n87250 87251\\n12511 12522\\n87000 87001\\n12762 12774\\n86750 86751\\n13013 13026\\n86500 86501\\n13264 13278\\n86250 86251\\n13515 13530\\n86000 86001\\n13766 13782\\n85750 85751\\n14017 14034\\n85500 85501\\n14268 14286\\n85250 85251\\n14519 14538\\n85000 85001\\n14770 14790\\n84750 84751\\n15021 15042\\n84500 84501\\n15272 15294\\n84250 84251\\n15523 15546\\n84000 84001\\n15774 15798\\n83750 83751\\n16025 16050\\n83500 83501\\n16276 16302\\n83250 83251\\n16527 16554\\n83000 83001\\n16778 16806\\n82750 82751\\n17029 17058\\n82500 82501\\n', 10000000000.0, 10000) {} Took 0.0042 seconds\n",
      "60\n",
      "--- 0.00010800361633300781 seconds ---\n",
      "Estimated runtime 0.003415374231472673\n",
      "Function solve_it('60 100000\\n90000 90001\\n89750 89751\\n10001 10002\\n89500 89501\\n10252 10254\\n89250 89251\\n10503 10506\\n89000 89001\\n10754 10758\\n88750 88751\\n11005 11010\\n88500 88501\\n11256 11262\\n88250 88251\\n11507 11514\\n88000 88001\\n11758 11766\\n87750 87751\\n12009 12018\\n87500 87501\\n12260 12270\\n87250 87251\\n12511 12522\\n87000 87001\\n12762 12774\\n86750 86751\\n13013 13026\\n86500 86501\\n13264 13278\\n86250 86251\\n13515 13530\\n86000 86001\\n13766 13782\\n85750 85751\\n14017 14034\\n85500 85501\\n14268 14286\\n85250 85251\\n14519 14538\\n85000 85001\\n14770 14790\\n84750 84751\\n15021 15042\\n84500 84501\\n15272 15294\\n84250 84251\\n15523 15546\\n84000 84001\\n15774 15798\\n83750 83751\\n16025 16050\\n83500 83501\\n16276 16302\\n83250 83251\\n16527 16554\\n83000 83001\\n16778 16806\\n82750 82751\\n17029 17058\\n82500 82501\\n', 10000000000.0, 15000) {} Took 0.0043 seconds\n",
      "60\n",
      "--- 0.00011587142944335938 seconds ---\n",
      "Estimated runtime 0.011587142944335938\n",
      "Function solve_it('60 100000\\n90000 90001\\n89750 89751\\n10001 10002\\n89500 89501\\n10252 10254\\n89250 89251\\n10503 10506\\n89000 89001\\n10754 10758\\n88750 88751\\n11005 11010\\n88500 88501\\n11256 11262\\n88250 88251\\n11507 11514\\n88000 88001\\n11758 11766\\n87750 87751\\n12009 12018\\n87500 87501\\n12260 12270\\n87250 87251\\n12511 12522\\n87000 87001\\n12762 12774\\n86750 86751\\n13013 13026\\n86500 86501\\n13264 13278\\n86250 86251\\n13515 13530\\n86000 86001\\n13766 13782\\n85750 85751\\n14017 14034\\n85500 85501\\n14268 14286\\n85250 85251\\n14519 14538\\n85000 85001\\n14770 14790\\n84750 84751\\n15021 15042\\n84500 84501\\n15272 15294\\n84250 84251\\n15523 15546\\n84000 84001\\n15774 15798\\n83750 83751\\n16025 16050\\n83500 83501\\n16276 16302\\n83250 83251\\n16527 16554\\n83000 83001\\n16778 16806\\n82750 82751\\n17029 17058\\n82500 82501\\n', 10000000000.0, 20000) {} Took 0.0057 seconds\n",
      "60\n",
      "--- 9.512901306152344e-05 seconds ---\n",
      "Estimated runtime 0.030082435283832157\n",
      "Function solve_it('60 100000\\n90000 90001\\n89750 89751\\n10001 10002\\n89500 89501\\n10252 10254\\n89250 89251\\n10503 10506\\n89000 89001\\n10754 10758\\n88750 88751\\n11005 11010\\n88500 88501\\n11256 11262\\n88250 88251\\n11507 11514\\n88000 88001\\n11758 11766\\n87750 87751\\n12009 12018\\n87500 87501\\n12260 12270\\n87250 87251\\n12511 12522\\n87000 87001\\n12762 12774\\n86750 86751\\n13013 13026\\n86500 86501\\n13264 13278\\n86250 86251\\n13515 13530\\n86000 86001\\n13766 13782\\n85750 85751\\n14017 14034\\n85500 85501\\n14268 14286\\n85250 85251\\n14519 14538\\n85000 85001\\n14770 14790\\n84750 84751\\n15021 15042\\n84500 84501\\n15272 15294\\n84250 84251\\n15523 15546\\n84000 84001\\n15774 15798\\n83750 83751\\n16025 16050\\n83500 83501\\n16276 16302\\n83250 83251\\n16527 16554\\n83000 83001\\n16778 16806\\n82750 82751\\n17029 17058\\n82500 82501\\n', 10000000000.0, 25000) {} Took 0.0067 seconds\n",
      "60\n",
      "--- 5.4836273193359375e-05 seconds ---\n",
      "Estimated runtime 0.054836273193359375\n",
      "Function solve_it('60 100000\\n90000 90001\\n89750 89751\\n10001 10002\\n89500 89501\\n10252 10254\\n89250 89251\\n10503 10506\\n89000 89001\\n10754 10758\\n88750 88751\\n11005 11010\\n88500 88501\\n11256 11262\\n88250 88251\\n11507 11514\\n88000 88001\\n11758 11766\\n87750 87751\\n12009 12018\\n87500 87501\\n12260 12270\\n87250 87251\\n12511 12522\\n87000 87001\\n12762 12774\\n86750 86751\\n13013 13026\\n86500 86501\\n13264 13278\\n86250 86251\\n13515 13530\\n86000 86001\\n13766 13782\\n85750 85751\\n14017 14034\\n85500 85501\\n14268 14286\\n85250 85251\\n14519 14538\\n85000 85001\\n14770 14790\\n84750 84751\\n15021 15042\\n84500 84501\\n15272 15294\\n84250 84251\\n15523 15546\\n84000 84001\\n15774 15798\\n83750 83751\\n16025 16050\\n83500 83501\\n16276 16302\\n83250 83251\\n16527 16554\\n83000 83001\\n16778 16806\\n82750 82751\\n17029 17058\\n82500 82501\\n', 10000000000.0, 30000) {} Took 0.0076 seconds\n"
     ]
    }
   ],
   "source": [
    "runtimes = []\n",
    "for capacity_override in [10000,15000,20000,25000,30000]:\n",
    "    _,_,runtime = solve_it(input_data,1e10,capacity_override)\n",
    "    runtimes.append(runtime)"
   ]
  },
  {
   "cell_type": "code",
   "execution_count": 1073,
   "id": "83c653f1",
   "metadata": {},
   "outputs": [
    {
     "data": {
      "text/plain": [
       "[<matplotlib.lines.Line2D at 0x141158a60>]"
      ]
     },
     "execution_count": 1073,
     "metadata": {},
     "output_type": "execute_result"
    },
    {
     "data": {
      "image/png": "[encoded data removed]",
      "text/plain": [
       "<Figure size 432x288 with 1 Axes>"
      ]
     },
     "metadata": {
      "needs_background": "light"
     },
     "output_type": "display_data"
    }
   ],
   "source": [
    "import matplotlib.pyplot as plt \n",
    "plt.plot([x for x in [10000,15000,20000,25000,30000]],runtimes,marker='+')"
   ]
  },
  {
   "cell_type": "code",
   "execution_count": 945,
   "id": "6bd470f3",
   "metadata": {},
   "outputs": [],
   "source": [
    "import math"
   ]
  },
  {
   "cell_type": "code",
   "execution_count": 956,
   "id": "68cb627b",
   "metadata": {},
   "outputs": [
    {
     "data": {
      "text/plain": [
       "14.872674880270607"
      ]
     },
     "execution_count": 956,
     "metadata": {},
     "output_type": "execute_result"
    }
   ],
   "source": [
    "math.log(30000,2)"
   ]
  },
  {
   "cell_type": "code",
   "execution_count": 698,
   "id": "a7762087",
   "metadata": {},
   "outputs": [],
   "source": [
    "# Branch and bound technique"
   ]
  },
  {
   "cell_type": "code",
   "execution_count": 699,
   "id": "19922210",
   "metadata": {},
   "outputs": [],
   "source": [
    "def get_optimistic_estimate(items,capacity,taken):\n",
    "    n = len(items)\n",
    "    mask = np.zeros(n)+1\n",
    "    taken_extended = np.array(taken+(list(np.zeros(n-len(taken))+1)))\n",
    "    mask = np.logical_and(mask,taken_extended)\n",
    "\n",
    "\n",
    "    items_considered_for_estimate = np.array(items)[mask]\n",
    "\n",
    "    items_ranked_by_value_by_weight = items_considered_for_estimate[np.argsort([-i[1]/i[2] for i in items_considered_for_estimate])]\n",
    "    i = 0\n",
    "    free_space = capacity\n",
    "    estimate = 0\n",
    "    while capacity!=0 and i < len(items_considered_for_estimate):\n",
    "        item = items_ranked_by_value_by_weight[i]\n",
    "        value = item[1]\n",
    "        weight = item[2]\n",
    "        if weight<free_space:\n",
    "            estimate += value\n",
    "            free_space -= weight\n",
    "        else: \n",
    "            fraction = free_space/weight\n",
    "            estimate += value * fraction \n",
    "            free_space = 0\n",
    "        i+=1\n",
    "    return estimate"
   ]
  },
  {
   "cell_type": "code",
   "execution_count": 700,
   "id": "bf7ccf19",
   "metadata": {},
   "outputs": [],
   "source": [
    "#items = [(0,45,5),(1,48,8),(2,35,3)]\n",
    "#capacity = 10 \n",
    "#taken = [1,0,0]\n",
    "#depth = 1\n",
    "#get_optimistic_estimate(items,capacity,taken)"
   ]
  },
  {
   "cell_type": "code",
   "execution_count": null,
   "id": "da401c96",
   "metadata": {},
   "outputs": [],
   "source": []
  },
  {
   "cell_type": "code",
   "execution_count": 835,
   "id": "51620463",
   "metadata": {},
   "outputs": [],
   "source": [
    "def branch_and_bound(items,taken,room,value,depth,best_value,best_path):\n",
    "    #print(items)\n",
    "    estimate = get_optimistic_estimate(items,capacity,taken)\n",
    "\n",
    "    if estimate < best_value[0]:\n",
    "        return \n",
    "\n",
    "    if depth == len(items):\n",
    "        #print('Depth is {}'.format(depth))\n",
    "        #print('Path is {}'.format(taken))\n",
    "        #print('Roon is {}'.format(room))\n",
    "        if value > best_value[0]:\n",
    "            best_value[0] = value\n",
    "            best_path.append(taken)\n",
    "            #print(\"new best_value found {}\".format(best_value[0]))\n",
    "\n",
    "    else :\n",
    "        value_item = items[depth][1]\n",
    "        weight = items[depth][2]\n",
    "        #print('Assessing item with weight {} and value {}'.format(weight,value_item))\n",
    "        if weight>room:\n",
    "            branch_and_bound(items,taken+[0],room,value,depth+1,best_value,best_path)\n",
    "        else:\n",
    "            branch_and_bound(items,taken+[1],room-weight,value+value_item,depth+1,best_value,best_path)\n",
    "            branch_and_bound(items,taken+[0],room,value,depth+1,best_value,best_path)\n"
   ]
  },
  {
   "cell_type": "code",
   "execution_count": 836,
   "id": "2ee240c5",
   "metadata": {},
   "outputs": [
    {
     "ename": "KeyboardInterrupt",
     "evalue": "",
     "output_type": "error",
     "traceback": [
      "\u001b[0;31m---------------------------------------------------------------------------\u001b[0m",
      "\u001b[0;31mKeyboardInterrupt\u001b[0m                         Traceback (most recent call last)",
      "Input \u001b[0;32mIn [836]\u001b[0m, in \u001b[0;36m<module>\u001b[0;34m\u001b[0m\n\u001b[1;32m      5\u001b[0m best_value \u001b[38;5;241m=\u001b[39m [\u001b[38;5;241m0\u001b[39m]\n\u001b[1;32m      6\u001b[0m best_path \u001b[38;5;241m=\u001b[39m []\n\u001b[0;32m----> 7\u001b[0m \u001b[43mbranch_and_bound\u001b[49m\u001b[43m(\u001b[49m\u001b[43mitems\u001b[49m\u001b[43m,\u001b[49m\u001b[43mtaken\u001b[49m\u001b[43m,\u001b[49m\u001b[43mroom\u001b[49m\u001b[43m,\u001b[49m\u001b[43mvalue\u001b[49m\u001b[43m,\u001b[49m\u001b[43mdepth\u001b[49m\u001b[43m,\u001b[49m\u001b[43mbest_value\u001b[49m\u001b[43m,\u001b[49m\u001b[43mbest_path\u001b[49m\u001b[43m)\u001b[49m\n",
      "Input \u001b[0;32mIn [835]\u001b[0m, in \u001b[0;36mbranch_and_bound\u001b[0;34m(items, taken, room, value, depth, best_value, best_path)\u001b[0m\n\u001b[1;32m     22\u001b[0m     branch_and_bound(items,taken\u001b[38;5;241m+\u001b[39m[\u001b[38;5;241m0\u001b[39m],room,value,depth\u001b[38;5;241m+\u001b[39m\u001b[38;5;241m1\u001b[39m,best_value,best_path)\n\u001b[1;32m     23\u001b[0m \u001b[38;5;28;01melse\u001b[39;00m:\n\u001b[0;32m---> 24\u001b[0m     \u001b[43mbranch_and_bound\u001b[49m\u001b[43m(\u001b[49m\u001b[43mitems\u001b[49m\u001b[43m,\u001b[49m\u001b[43mtaken\u001b[49m\u001b[38;5;241;43m+\u001b[39;49m\u001b[43m[\u001b[49m\u001b[38;5;241;43m1\u001b[39;49m\u001b[43m]\u001b[49m\u001b[43m,\u001b[49m\u001b[43mroom\u001b[49m\u001b[38;5;241;43m-\u001b[39;49m\u001b[43mweight\u001b[49m\u001b[43m,\u001b[49m\u001b[43mvalue\u001b[49m\u001b[38;5;241;43m+\u001b[39;49m\u001b[43mvalue_item\u001b[49m\u001b[43m,\u001b[49m\u001b[43mdepth\u001b[49m\u001b[38;5;241;43m+\u001b[39;49m\u001b[38;5;241;43m1\u001b[39;49m\u001b[43m,\u001b[49m\u001b[43mbest_value\u001b[49m\u001b[43m,\u001b[49m\u001b[43mbest_path\u001b[49m\u001b[43m)\u001b[49m\n\u001b[1;32m     25\u001b[0m     branch_and_bound(items,taken\u001b[38;5;241m+\u001b[39m[\u001b[38;5;241m0\u001b[39m],room,value,depth\u001b[38;5;241m+\u001b[39m\u001b[38;5;241m1\u001b[39m,best_value,best_path)\n",
      "Input \u001b[0;32mIn [835]\u001b[0m, in \u001b[0;36mbranch_and_bound\u001b[0;34m(items, taken, room, value, depth, best_value, best_path)\u001b[0m\n\u001b[1;32m     22\u001b[0m     branch_and_bound(items,taken\u001b[38;5;241m+\u001b[39m[\u001b[38;5;241m0\u001b[39m],room,value,depth\u001b[38;5;241m+\u001b[39m\u001b[38;5;241m1\u001b[39m,best_value,best_path)\n\u001b[1;32m     23\u001b[0m \u001b[38;5;28;01melse\u001b[39;00m:\n\u001b[0;32m---> 24\u001b[0m     \u001b[43mbranch_and_bound\u001b[49m\u001b[43m(\u001b[49m\u001b[43mitems\u001b[49m\u001b[43m,\u001b[49m\u001b[43mtaken\u001b[49m\u001b[38;5;241;43m+\u001b[39;49m\u001b[43m[\u001b[49m\u001b[38;5;241;43m1\u001b[39;49m\u001b[43m]\u001b[49m\u001b[43m,\u001b[49m\u001b[43mroom\u001b[49m\u001b[38;5;241;43m-\u001b[39;49m\u001b[43mweight\u001b[49m\u001b[43m,\u001b[49m\u001b[43mvalue\u001b[49m\u001b[38;5;241;43m+\u001b[39;49m\u001b[43mvalue_item\u001b[49m\u001b[43m,\u001b[49m\u001b[43mdepth\u001b[49m\u001b[38;5;241;43m+\u001b[39;49m\u001b[38;5;241;43m1\u001b[39;49m\u001b[43m,\u001b[49m\u001b[43mbest_value\u001b[49m\u001b[43m,\u001b[49m\u001b[43mbest_path\u001b[49m\u001b[43m)\u001b[49m\n\u001b[1;32m     25\u001b[0m     branch_and_bound(items,taken\u001b[38;5;241m+\u001b[39m[\u001b[38;5;241m0\u001b[39m],room,value,depth\u001b[38;5;241m+\u001b[39m\u001b[38;5;241m1\u001b[39m,best_value,best_path)\n",
      "    \u001b[0;31m[... skipping similar frames: branch_and_bound at line 24 (4 times)]\u001b[0m\n",
      "Input \u001b[0;32mIn [835]\u001b[0m, in \u001b[0;36mbranch_and_bound\u001b[0;34m(items, taken, room, value, depth, best_value, best_path)\u001b[0m\n\u001b[1;32m     23\u001b[0m \u001b[38;5;28;01melse\u001b[39;00m:\n\u001b[1;32m     24\u001b[0m     branch_and_bound(items,taken\u001b[38;5;241m+\u001b[39m[\u001b[38;5;241m1\u001b[39m],room\u001b[38;5;241m-\u001b[39mweight,value\u001b[38;5;241m+\u001b[39mvalue_item,depth\u001b[38;5;241m+\u001b[39m\u001b[38;5;241m1\u001b[39m,best_value,best_path)\n\u001b[0;32m---> 25\u001b[0m     \u001b[43mbranch_and_bound\u001b[49m\u001b[43m(\u001b[49m\u001b[43mitems\u001b[49m\u001b[43m,\u001b[49m\u001b[43mtaken\u001b[49m\u001b[38;5;241;43m+\u001b[39;49m\u001b[43m[\u001b[49m\u001b[38;5;241;43m0\u001b[39;49m\u001b[43m]\u001b[49m\u001b[43m,\u001b[49m\u001b[43mroom\u001b[49m\u001b[43m,\u001b[49m\u001b[43mvalue\u001b[49m\u001b[43m,\u001b[49m\u001b[43mdepth\u001b[49m\u001b[38;5;241;43m+\u001b[39;49m\u001b[38;5;241;43m1\u001b[39;49m\u001b[43m,\u001b[49m\u001b[43mbest_value\u001b[49m\u001b[43m,\u001b[49m\u001b[43mbest_path\u001b[49m\u001b[43m)\u001b[49m\n",
      "Input \u001b[0;32mIn [835]\u001b[0m, in \u001b[0;36mbranch_and_bound\u001b[0;34m(items, taken, room, value, depth, best_value, best_path)\u001b[0m\n\u001b[1;32m     23\u001b[0m \u001b[38;5;28;01melse\u001b[39;00m:\n\u001b[1;32m     24\u001b[0m     branch_and_bound(items,taken\u001b[38;5;241m+\u001b[39m[\u001b[38;5;241m1\u001b[39m],room\u001b[38;5;241m-\u001b[39mweight,value\u001b[38;5;241m+\u001b[39mvalue_item,depth\u001b[38;5;241m+\u001b[39m\u001b[38;5;241m1\u001b[39m,best_value,best_path)\n\u001b[0;32m---> 25\u001b[0m     \u001b[43mbranch_and_bound\u001b[49m\u001b[43m(\u001b[49m\u001b[43mitems\u001b[49m\u001b[43m,\u001b[49m\u001b[43mtaken\u001b[49m\u001b[38;5;241;43m+\u001b[39;49m\u001b[43m[\u001b[49m\u001b[38;5;241;43m0\u001b[39;49m\u001b[43m]\u001b[49m\u001b[43m,\u001b[49m\u001b[43mroom\u001b[49m\u001b[43m,\u001b[49m\u001b[43mvalue\u001b[49m\u001b[43m,\u001b[49m\u001b[43mdepth\u001b[49m\u001b[38;5;241;43m+\u001b[39;49m\u001b[38;5;241;43m1\u001b[39;49m\u001b[43m,\u001b[49m\u001b[43mbest_value\u001b[49m\u001b[43m,\u001b[49m\u001b[43mbest_path\u001b[49m\u001b[43m)\u001b[49m\n",
      "Input \u001b[0;32mIn [835]\u001b[0m, in \u001b[0;36mbranch_and_bound\u001b[0;34m(items, taken, room, value, depth, best_value, best_path)\u001b[0m\n\u001b[1;32m     20\u001b[0m \u001b[38;5;66;03m#print('Assessing item with weight {} and value {}'.format(weight,value_item))\u001b[39;00m\n\u001b[1;32m     21\u001b[0m \u001b[38;5;28;01mif\u001b[39;00m weight\u001b[38;5;241m>\u001b[39mroom:\n\u001b[0;32m---> 22\u001b[0m     \u001b[43mbranch_and_bound\u001b[49m\u001b[43m(\u001b[49m\u001b[43mitems\u001b[49m\u001b[43m,\u001b[49m\u001b[43mtaken\u001b[49m\u001b[38;5;241;43m+\u001b[39;49m\u001b[43m[\u001b[49m\u001b[38;5;241;43m0\u001b[39;49m\u001b[43m]\u001b[49m\u001b[43m,\u001b[49m\u001b[43mroom\u001b[49m\u001b[43m,\u001b[49m\u001b[43mvalue\u001b[49m\u001b[43m,\u001b[49m\u001b[43mdepth\u001b[49m\u001b[38;5;241;43m+\u001b[39;49m\u001b[38;5;241;43m1\u001b[39;49m\u001b[43m,\u001b[49m\u001b[43mbest_value\u001b[49m\u001b[43m,\u001b[49m\u001b[43mbest_path\u001b[49m\u001b[43m)\u001b[49m\n\u001b[1;32m     23\u001b[0m \u001b[38;5;28;01melse\u001b[39;00m:\n\u001b[1;32m     24\u001b[0m     branch_and_bound(items,taken\u001b[38;5;241m+\u001b[39m[\u001b[38;5;241m1\u001b[39m],room\u001b[38;5;241m-\u001b[39mweight,value\u001b[38;5;241m+\u001b[39mvalue_item,depth\u001b[38;5;241m+\u001b[39m\u001b[38;5;241m1\u001b[39m,best_value,best_path)\n",
      "    \u001b[0;31m[... skipping similar frames: branch_and_bound at line 25 (11 times), branch_and_bound at line 24 (2 times)]\u001b[0m\n",
      "Input \u001b[0;32mIn [835]\u001b[0m, in \u001b[0;36mbranch_and_bound\u001b[0;34m(items, taken, room, value, depth, best_value, best_path)\u001b[0m\n\u001b[1;32m     20\u001b[0m \u001b[38;5;66;03m#print('Assessing item with weight {} and value {}'.format(weight,value_item))\u001b[39;00m\n\u001b[1;32m     21\u001b[0m \u001b[38;5;28;01mif\u001b[39;00m weight\u001b[38;5;241m>\u001b[39mroom:\n\u001b[0;32m---> 22\u001b[0m     \u001b[43mbranch_and_bound\u001b[49m\u001b[43m(\u001b[49m\u001b[43mitems\u001b[49m\u001b[43m,\u001b[49m\u001b[43mtaken\u001b[49m\u001b[38;5;241;43m+\u001b[39;49m\u001b[43m[\u001b[49m\u001b[38;5;241;43m0\u001b[39;49m\u001b[43m]\u001b[49m\u001b[43m,\u001b[49m\u001b[43mroom\u001b[49m\u001b[43m,\u001b[49m\u001b[43mvalue\u001b[49m\u001b[43m,\u001b[49m\u001b[43mdepth\u001b[49m\u001b[38;5;241;43m+\u001b[39;49m\u001b[38;5;241;43m1\u001b[39;49m\u001b[43m,\u001b[49m\u001b[43mbest_value\u001b[49m\u001b[43m,\u001b[49m\u001b[43mbest_path\u001b[49m\u001b[43m)\u001b[49m\n\u001b[1;32m     23\u001b[0m \u001b[38;5;28;01melse\u001b[39;00m:\n\u001b[1;32m     24\u001b[0m     branch_and_bound(items,taken\u001b[38;5;241m+\u001b[39m[\u001b[38;5;241m1\u001b[39m],room\u001b[38;5;241m-\u001b[39mweight,value\u001b[38;5;241m+\u001b[39mvalue_item,depth\u001b[38;5;241m+\u001b[39m\u001b[38;5;241m1\u001b[39m,best_value,best_path)\n",
      "    \u001b[0;31m[... skipping similar frames: branch_and_bound at line 25 (7 times), branch_and_bound at line 24 (2 times), branch_and_bound at line 22 (2 times)]\u001b[0m\n",
      "Input \u001b[0;32mIn [835]\u001b[0m, in \u001b[0;36mbranch_and_bound\u001b[0;34m(items, taken, room, value, depth, best_value, best_path)\u001b[0m\n\u001b[1;32m     22\u001b[0m     branch_and_bound(items,taken\u001b[38;5;241m+\u001b[39m[\u001b[38;5;241m0\u001b[39m],room,value,depth\u001b[38;5;241m+\u001b[39m\u001b[38;5;241m1\u001b[39m,best_value,best_path)\n\u001b[1;32m     23\u001b[0m \u001b[38;5;28;01melse\u001b[39;00m:\n\u001b[0;32m---> 24\u001b[0m     \u001b[43mbranch_and_bound\u001b[49m\u001b[43m(\u001b[49m\u001b[43mitems\u001b[49m\u001b[43m,\u001b[49m\u001b[43mtaken\u001b[49m\u001b[38;5;241;43m+\u001b[39;49m\u001b[43m[\u001b[49m\u001b[38;5;241;43m1\u001b[39;49m\u001b[43m]\u001b[49m\u001b[43m,\u001b[49m\u001b[43mroom\u001b[49m\u001b[38;5;241;43m-\u001b[39;49m\u001b[43mweight\u001b[49m\u001b[43m,\u001b[49m\u001b[43mvalue\u001b[49m\u001b[38;5;241;43m+\u001b[39;49m\u001b[43mvalue_item\u001b[49m\u001b[43m,\u001b[49m\u001b[43mdepth\u001b[49m\u001b[38;5;241;43m+\u001b[39;49m\u001b[38;5;241;43m1\u001b[39;49m\u001b[43m,\u001b[49m\u001b[43mbest_value\u001b[49m\u001b[43m,\u001b[49m\u001b[43mbest_path\u001b[49m\u001b[43m)\u001b[49m\n\u001b[1;32m     25\u001b[0m     branch_and_bound(items,taken\u001b[38;5;241m+\u001b[39m[\u001b[38;5;241m0\u001b[39m],room,value,depth\u001b[38;5;241m+\u001b[39m\u001b[38;5;241m1\u001b[39m,best_value,best_path)\n",
      "    \u001b[0;31m[... skipping similar frames: branch_and_bound at line 25 (3 times)]\u001b[0m\n",
      "Input \u001b[0;32mIn [835]\u001b[0m, in \u001b[0;36mbranch_and_bound\u001b[0;34m(items, taken, room, value, depth, best_value, best_path)\u001b[0m\n\u001b[1;32m     20\u001b[0m \u001b[38;5;66;03m#print('Assessing item with weight {} and value {}'.format(weight,value_item))\u001b[39;00m\n\u001b[1;32m     21\u001b[0m \u001b[38;5;28;01mif\u001b[39;00m weight\u001b[38;5;241m>\u001b[39mroom:\n\u001b[0;32m---> 22\u001b[0m     \u001b[43mbranch_and_bound\u001b[49m\u001b[43m(\u001b[49m\u001b[43mitems\u001b[49m\u001b[43m,\u001b[49m\u001b[43mtaken\u001b[49m\u001b[38;5;241;43m+\u001b[39;49m\u001b[43m[\u001b[49m\u001b[38;5;241;43m0\u001b[39;49m\u001b[43m]\u001b[49m\u001b[43m,\u001b[49m\u001b[43mroom\u001b[49m\u001b[43m,\u001b[49m\u001b[43mvalue\u001b[49m\u001b[43m,\u001b[49m\u001b[43mdepth\u001b[49m\u001b[38;5;241;43m+\u001b[39;49m\u001b[38;5;241;43m1\u001b[39;49m\u001b[43m,\u001b[49m\u001b[43mbest_value\u001b[49m\u001b[43m,\u001b[49m\u001b[43mbest_path\u001b[49m\u001b[43m)\u001b[49m\n\u001b[1;32m     23\u001b[0m \u001b[38;5;28;01melse\u001b[39;00m:\n\u001b[1;32m     24\u001b[0m     branch_and_bound(items,taken\u001b[38;5;241m+\u001b[39m[\u001b[38;5;241m1\u001b[39m],room\u001b[38;5;241m-\u001b[39mweight,value\u001b[38;5;241m+\u001b[39mvalue_item,depth\u001b[38;5;241m+\u001b[39m\u001b[38;5;241m1\u001b[39m,best_value,best_path)\n",
      "Input \u001b[0;32mIn [835]\u001b[0m, in \u001b[0;36mbranch_and_bound\u001b[0;34m(items, taken, room, value, depth, best_value, best_path)\u001b[0m\n\u001b[1;32m     23\u001b[0m \u001b[38;5;28;01melse\u001b[39;00m:\n\u001b[1;32m     24\u001b[0m     branch_and_bound(items,taken\u001b[38;5;241m+\u001b[39m[\u001b[38;5;241m1\u001b[39m],room\u001b[38;5;241m-\u001b[39mweight,value\u001b[38;5;241m+\u001b[39mvalue_item,depth\u001b[38;5;241m+\u001b[39m\u001b[38;5;241m1\u001b[39m,best_value,best_path)\n\u001b[0;32m---> 25\u001b[0m     \u001b[43mbranch_and_bound\u001b[49m\u001b[43m(\u001b[49m\u001b[43mitems\u001b[49m\u001b[43m,\u001b[49m\u001b[43mtaken\u001b[49m\u001b[38;5;241;43m+\u001b[39;49m\u001b[43m[\u001b[49m\u001b[38;5;241;43m0\u001b[39;49m\u001b[43m]\u001b[49m\u001b[43m,\u001b[49m\u001b[43mroom\u001b[49m\u001b[43m,\u001b[49m\u001b[43mvalue\u001b[49m\u001b[43m,\u001b[49m\u001b[43mdepth\u001b[49m\u001b[38;5;241;43m+\u001b[39;49m\u001b[38;5;241;43m1\u001b[39;49m\u001b[43m,\u001b[49m\u001b[43mbest_value\u001b[49m\u001b[43m,\u001b[49m\u001b[43mbest_path\u001b[49m\u001b[43m)\u001b[49m\n",
      "Input \u001b[0;32mIn [835]\u001b[0m, in \u001b[0;36mbranch_and_bound\u001b[0;34m(items, taken, room, value, depth, best_value, best_path)\u001b[0m\n\u001b[1;32m      1\u001b[0m \u001b[38;5;28;01mdef\u001b[39;00m \u001b[38;5;21mbranch_and_bound\u001b[39m(items,taken,room,value,depth,best_value,best_path):\n\u001b[1;32m      2\u001b[0m     \u001b[38;5;66;03m#print(items)\u001b[39;00m\n\u001b[0;32m----> 3\u001b[0m     estimate \u001b[38;5;241m=\u001b[39m \u001b[43mget_optimistic_estimate\u001b[49m\u001b[43m(\u001b[49m\u001b[43mitems\u001b[49m\u001b[43m,\u001b[49m\u001b[43mcapacity\u001b[49m\u001b[43m,\u001b[49m\u001b[43mtaken\u001b[49m\u001b[43m)\u001b[49m\n\u001b[1;32m      5\u001b[0m     \u001b[38;5;28;01mif\u001b[39;00m estimate \u001b[38;5;241m<\u001b[39m best_value[\u001b[38;5;241m0\u001b[39m]:\n\u001b[1;32m      6\u001b[0m         \u001b[38;5;28;01mreturn\u001b[39;00m \n",
      "Input \u001b[0;32mIn [699]\u001b[0m, in \u001b[0;36mget_optimistic_estimate\u001b[0;34m(items, capacity, taken)\u001b[0m\n\u001b[1;32m      4\u001b[0m taken_extended \u001b[38;5;241m=\u001b[39m np\u001b[38;5;241m.\u001b[39marray(taken\u001b[38;5;241m+\u001b[39m(\u001b[38;5;28mlist\u001b[39m(np\u001b[38;5;241m.\u001b[39mzeros(n\u001b[38;5;241m-\u001b[39m\u001b[38;5;28mlen\u001b[39m(taken))\u001b[38;5;241m+\u001b[39m\u001b[38;5;241m1\u001b[39m)))\n\u001b[1;32m      5\u001b[0m mask \u001b[38;5;241m=\u001b[39m np\u001b[38;5;241m.\u001b[39mlogical_and(mask,taken_extended)\n\u001b[0;32m----> 8\u001b[0m items_considered_for_estimate \u001b[38;5;241m=\u001b[39m \u001b[43mnp\u001b[49m\u001b[38;5;241;43m.\u001b[39;49m\u001b[43marray\u001b[49m\u001b[43m(\u001b[49m\u001b[43mitems\u001b[49m\u001b[43m)\u001b[49m[mask]\n\u001b[1;32m     10\u001b[0m items_ranked_by_value_by_weight \u001b[38;5;241m=\u001b[39m items_considered_for_estimate[np\u001b[38;5;241m.\u001b[39margsort([\u001b[38;5;241m-\u001b[39mi[\u001b[38;5;241m1\u001b[39m]\u001b[38;5;241m/\u001b[39mi[\u001b[38;5;241m2\u001b[39m] \u001b[38;5;28;01mfor\u001b[39;00m i \u001b[38;5;129;01min\u001b[39;00m items_considered_for_estimate])]\n\u001b[1;32m     11\u001b[0m i \u001b[38;5;241m=\u001b[39m \u001b[38;5;241m0\u001b[39m\n",
      "\u001b[0;31mKeyboardInterrupt\u001b[0m: "
     ]
    }
   ],
   "source": [
    "value = 0\n",
    "room = capacity \n",
    "taken = []\n",
    "depth = 0\n",
    "best_value = [0]\n",
    "best_path = []\n",
    "branch_and_bound(items,taken,room,value,depth,best_value,best_path)"
   ]
  },
  {
   "cell_type": "code",
   "execution_count": null,
   "id": "0b1692da",
   "metadata": {},
   "outputs": [],
   "source": [
    "best_path[-1]"
   ]
  },
  {
   "cell_type": "code",
   "execution_count": 687,
   "id": "23bc0f0e",
   "metadata": {},
   "outputs": [
    {
     "data": {
      "text/plain": [
       "[44]"
      ]
     },
     "execution_count": 687,
     "metadata": {},
     "output_type": "execute_result"
    }
   ],
   "source": [
    "best_value"
   ]
  },
  {
   "cell_type": "code",
   "execution_count": 603,
   "id": "fdd032d9",
   "metadata": {},
   "outputs": [
    {
     "data": {
      "text/plain": [
       "[(0, 45, 5), (1, 48, 8), (2, 35, 3)]"
      ]
     },
     "execution_count": 603,
     "metadata": {},
     "output_type": "execute_result"
    }
   ],
   "source": [
    "items"
   ]
  },
  {
   "cell_type": "code",
   "execution_count": 453,
   "id": "0399b8f4",
   "metadata": {},
   "outputs": [
    {
     "data": {
      "text/plain": [
       "4"
      ]
     },
     "execution_count": 453,
     "metadata": {},
     "output_type": "execute_result"
    }
   ],
   "source": [
    "a[~1]"
   ]
  },
  {
   "cell_type": "code",
   "execution_count": 630,
   "id": "76d0e80d",
   "metadata": {},
   "outputs": [
    {
     "data": {
      "text/plain": [
       "10"
      ]
     },
     "execution_count": 630,
     "metadata": {},
     "output_type": "execute_result"
    }
   ],
   "source": [
    "capacity"
   ]
  },
  {
   "cell_type": "code",
   "execution_count": 462,
   "id": "2d8e2599",
   "metadata": {},
   "outputs": [],
   "source": [
    "a = np.ma.array(a, mask=False)\n",
    "a.mask[[3,4]] = True"
   ]
  },
  {
   "cell_type": "code",
   "execution_count": 463,
   "id": "24e6ef8a",
   "metadata": {},
   "outputs": [
    {
     "data": {
      "text/plain": [
       "masked_array(data=[1, 2, 3, --, --],\n",
       "             mask=[False, False, False,  True,  True],\n",
       "       fill_value=999999)"
      ]
     },
     "execution_count": 463,
     "metadata": {},
     "output_type": "execute_result"
    }
   ],
   "source": [
    "a"
   ]
  },
  {
   "cell_type": "code",
   "execution_count": 464,
   "id": "903f7276",
   "metadata": {},
   "outputs": [
    {
     "data": {
      "text/plain": [
       "array([1, 2, 3])"
      ]
     },
     "execution_count": 464,
     "metadata": {},
     "output_type": "execute_result"
    }
   ],
   "source": [
    "a.data[~a.mask]"
   ]
  },
  {
   "cell_type": "code",
   "execution_count": null,
   "id": "a9277ae7",
   "metadata": {},
   "outputs": [],
   "source": []
  }
 ],
 "metadata": {
  "kernelspec": {
   "display_name": "base_",
   "language": "python",
   "name": "base_"
  },
  "language_info": {
   "codemirror_mode": {
    "name": "ipython",
    "version": 3
   },
   "file_extension": ".py",
   "mimetype": "text/x-python",
   "name": "python",
   "nbconvert_exporter": "python",
   "pygments_lexer": "ipython3",
   "version": "3.9.15"
  }
 },
 "nbformat": 4,
 "nbformat_minor": 5
}
