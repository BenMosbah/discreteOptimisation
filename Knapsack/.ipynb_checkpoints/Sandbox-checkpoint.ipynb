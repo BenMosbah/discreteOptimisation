{
 "cells": [
  {
   "cell_type": "code",
   "execution_count": 822,
   "id": "6968d6d0",
   "metadata": {},
   "outputs": [],
   "source": [
    "import os \n",
    "import numpy as np \n",
    "from functools import wraps\n",
    "import time\n",
    "import multiprocessing\n"
   ]
  },
  {
   "cell_type": "code",
   "execution_count": 379,
   "id": "2cf55e2e",
   "metadata": {},
   "outputs": [],
   "source": [
    "from collections import namedtuple\n",
    "Item = namedtuple(\"Item\", ['index', 'value', 'weight'])"
   ]
  },
  {
   "cell_type": "code",
   "execution_count": 380,
   "id": "d8bb259b",
   "metadata": {},
   "outputs": [],
   "source": [
    "data_files = os.listdir('Data')"
   ]
  },
  {
   "cell_type": "code",
   "execution_count": 707,
   "id": "b4240307",
   "metadata": {},
   "outputs": [],
   "source": [
    "def timeit(func):\n",
    "    @wraps(func)\n",
    "    def timeit_wrapper(*args, **kwargs):\n",
    "        start_time = time.perf_counter()\n",
    "        result = func(*args, **kwargs)\n",
    "        end_time = time.perf_counter()\n",
    "        total_time = end_time - start_time\n",
    "        print(f'Function {func.__name__}{args} {kwargs} Took {total_time:.4f} seconds')\n",
    "        return result\n",
    "    return timeit_wrapper"
   ]
  },
  {
   "cell_type": "code",
   "execution_count": 381,
   "id": "c63508de",
   "metadata": {},
   "outputs": [
    {
     "data": {
      "text/plain": [
       "['ks_60_0',\n",
       " 'ks_4_0',\n",
       " 'ks_45_0',\n",
       " 'ks_30_0',\n",
       " 'ks_lecture_dp_2',\n",
       " 'ks_10000_0',\n",
       " 'ks_300_0',\n",
       " 'ks_200_0',\n",
       " 'ks_100_1',\n",
       " 'ks_100_0',\n",
       " 'ks_200_1',\n",
       " 'ks_500_0',\n",
       " 'ks_400_0',\n",
       " 'ks_lecture_dp_1',\n",
       " 'ks_19_0',\n",
       " 'ks_100_2',\n",
       " 'ks_106_0',\n",
       " 'ks_40_0',\n",
       " 'ks_82_0',\n",
       " 'ks_50_0',\n",
       " 'ks_50_1',\n",
       " 'ks_1000_0']"
      ]
     },
     "execution_count": 381,
     "metadata": {},
     "output_type": "execute_result"
    }
   ],
   "source": [
    "data_files"
   ]
  },
  {
   "cell_type": "code",
   "execution_count": 800,
   "id": "3c860795",
   "metadata": {},
   "outputs": [],
   "source": [
    "input_file = open('Data/'+data_files[3])\n",
    "input_data = input_file.read()"
   ]
  },
  {
   "cell_type": "code",
   "execution_count": 801,
   "id": "0253bd34",
   "metadata": {},
   "outputs": [],
   "source": [
    "items,capacity,item_count = parse_input(input_data)"
   ]
  },
  {
   "cell_type": "code",
   "execution_count": 802,
   "id": "59a6231d",
   "metadata": {},
   "outputs": [
    {
     "data": {
      "text/plain": [
       "30"
      ]
     },
     "execution_count": 802,
     "metadata": {},
     "output_type": "execute_result"
    }
   ],
   "source": [
    "item_count"
   ]
  },
  {
   "cell_type": "code",
   "execution_count": 803,
   "id": "36b255e9",
   "metadata": {},
   "outputs": [
    {
     "data": {
      "text/plain": [
       "100000"
      ]
     },
     "execution_count": 803,
     "metadata": {},
     "output_type": "execute_result"
    }
   ],
   "source": [
    "capacity"
   ]
  },
  {
   "cell_type": "code",
   "execution_count": 804,
   "id": "cfdbca42",
   "metadata": {},
   "outputs": [],
   "source": [
    "#items"
   ]
  },
  {
   "cell_type": "code",
   "execution_count": 815,
   "id": "d2df1701",
   "metadata": {},
   "outputs": [],
   "source": [
    "def greedy(items,capacity):\n",
    "    items = np.array(items)\n",
    "    items_ranked_by_value_by_weight = items[np.argsort([-i[1]/i[2] for i in items])]\n",
    "    i = 0\n",
    "    free_space = capacity\n",
    "    estimate = 0\n",
    "    selected = []\n",
    "    while capacity!=0 and i < len(items):\n",
    "        item = items_ranked_by_value_by_weight[i]\n",
    "        value = item[1]\n",
    "        weight = item[2]\n",
    "        index = item[0]\n",
    "        if weight<free_space:\n",
    "            estimate += value\n",
    "            free_space -= weight\n",
    "            selected.append(index)\n",
    "        else: \n",
    "            break\n",
    "        i+=1\n",
    "    return estimate,selected"
   ]
  },
  {
   "cell_type": "code",
   "execution_count": 819,
   "id": "137c15ce",
   "metadata": {},
   "outputs": [],
   "source": [
    "def dp(n,k,dp_array,items):\n",
    "    if k<0:\n",
    "        return -1e6\n",
    "    else:\n",
    "        index = n-1\n",
    "        weight = items[index][2]\n",
    "        value = items[index][1]\n",
    "        if index==0:\n",
    "            result = 0 if k<weight else value\n",
    "            dp_array[index,k-1] = result\n",
    "            return result\n",
    "        else:\n",
    "            result = max(dp(n-1,k,dp_array,items),dp(n-1,k-weight,dp_array,items)+value)\n",
    "            dp_array[index,k-1] = result\n",
    "            return  result\n"
   ]
  },
  {
   "cell_type": "code",
   "execution_count": 820,
   "id": "f51cc2d9",
   "metadata": {},
   "outputs": [],
   "source": [
    "def back_track(dp_array,remainder,result_back_tracking):\n",
    "    weight_last = 0\n",
    "    while remainder!=0:\n",
    "        last = np.where(dp_array[:,-1-weight_last]==remainder)[0][0]\n",
    "        value_last = items[last][1]\n",
    "        weight_last += items[last][2]\n",
    "        remainder = remainder - value_last\n",
    "        result_back_tracking.append(last)"
   ]
  },
  {
   "cell_type": "code",
   "execution_count": 821,
   "id": "ca365461",
   "metadata": {},
   "outputs": [],
   "source": [
    "def parse_input(input_data):\n",
    "    \n",
    "    # parse the input\n",
    "    lines = input_data.split('\\n')\n",
    "\n",
    "    firstLine = lines[0].split()\n",
    "    item_count = int(firstLine[0])\n",
    "    capacity = int(firstLine[1])\n",
    "\n",
    "    items = []\n",
    "\n",
    "    for i in range(1, item_count+1):\n",
    "        line = lines[i]\n",
    "        parts = line.split()\n",
    "        items.append(Item(i-1, int(parts[0]), int(parts[1])))\n",
    "\n",
    "\n",
    "    return items,capacity,item_count"
   ]
  },
  {
   "cell_type": "code",
   "execution_count": 809,
   "id": "f9ef2b9e",
   "metadata": {},
   "outputs": [],
   "source": [
    "@timeit\n",
    "def solve_it(input_data):\n",
    "    items,capacity,item_count = parse_input(input_data)\n",
    "    optimal = True\n",
    "    #if  < \n",
    "    \n",
    "    # DP solution \n",
    "    # Try DP solution if takes less than 10min \n",
    "    dp_array = np.zeros((item_count,capacity))\n",
    "    dp_solution = dp(item_count,capacity,dp_array,items)\n",
    "\n",
    "    result_back_tracking = []\n",
    "    back_track(dp_array,dp_solution,result_back_tracking)\n",
    "\n",
    "    to_return = np.zeros(item_count)\n",
    "    to_return[result_back_tracking] = 1\n",
    "    to_return = to_return.astype(int)\n",
    "\n",
    "    \n",
    "    # prepare the solution in the specified output format\n",
    "    output_data = str(dp_solution) + ' ' + str(0) + '\\n'\n",
    "    output_data += ' '.join(map(str, to_return))\n",
    "    \n",
    "    #print('With input data :',input_data)\n",
    "    #print('I return : ')\n",
    "    \n",
    "    return output_data,dp_array"
   ]
  },
  {
   "cell_type": "code",
   "execution_count": 810,
   "id": "1afbdba6",
   "metadata": {},
   "outputs": [
    {
     "data": {
      "text/plain": [
       "30"
      ]
     },
     "execution_count": 810,
     "metadata": {},
     "output_type": "execute_result"
    }
   ],
   "source": [
    "len([i for i in items if i[2]<capacity])"
   ]
  },
  {
   "cell_type": "code",
   "execution_count": 811,
   "id": "a1afd464",
   "metadata": {},
   "outputs": [
    {
     "data": {
      "text/plain": [
       "100000"
      ]
     },
     "execution_count": 811,
     "metadata": {},
     "output_type": "execute_result"
    }
   ],
   "source": [
    "capacity"
   ]
  },
  {
   "cell_type": "code",
   "execution_count": 812,
   "id": "85c57062",
   "metadata": {},
   "outputs": [
    {
     "name": "stdout",
     "output_type": "stream",
     "text": [
      "Function solve_it('30 100000\\n90000 90001\\n89750 89751\\n10001 10002\\n89500 89501\\n10252 10254\\n89250 89251\\n10503 10506\\n89000 89001\\n10754 10758\\n88750 88751\\n11005 11010\\n88500 88501\\n11256 11262\\n88250 88251\\n11507 11514\\n88000 88001\\n11758 11766\\n87750 87751\\n12009 12018\\n87500 87501\\n12260 12270\\n87250 87251\\n12511 12522\\n87000 87001\\n12762 12774\\n86750 86751\\n13013 13026\\n86500 86501\\n13264 13278\\n86250 86251\\n',) {} Took 0.0506 seconds\n",
      "99798 0\n",
      "0 0 1 0 1 0 1 0 1 0 1 0 1 0 0 0 1 0 1 0 1 0 0 0 0 0 0 0 0 0\n"
     ]
    }
   ],
   "source": [
    "output_data,dp_array = solve_it(input_data)\n",
    "print(output_data)"
   ]
  },
  {
   "cell_type": "code",
   "execution_count": 698,
   "id": "9aaba824",
   "metadata": {},
   "outputs": [],
   "source": [
    "# Branch and bound technique"
   ]
  },
  {
   "cell_type": "code",
   "execution_count": 699,
   "id": "79495d36",
   "metadata": {},
   "outputs": [],
   "source": [
    "def get_optimistic_estimate(items,capacity,taken):\n",
    "    n = len(items)\n",
    "    mask = np.zeros(n)+1\n",
    "    taken_extended = np.array(taken+(list(np.zeros(n-len(taken))+1)))\n",
    "    mask = np.logical_and(mask,taken_extended)\n",
    "\n",
    "\n",
    "    items_considered_for_estimate = np.array(items)[mask]\n",
    "\n",
    "    items_ranked_by_value_by_weight = items_considered_for_estimate[np.argsort([-i[1]/i[2] for i in items_considered_for_estimate])]\n",
    "    i = 0\n",
    "    free_space = capacity\n",
    "    estimate = 0\n",
    "    while capacity!=0 and i < len(items_considered_for_estimate):\n",
    "        item = items_ranked_by_value_by_weight[i]\n",
    "        value = item[1]\n",
    "        weight = item[2]\n",
    "        if weight<free_space:\n",
    "            estimate += value\n",
    "            free_space -= weight\n",
    "        else: \n",
    "            fraction = free_space/weight\n",
    "            estimate += value * fraction \n",
    "            free_space = 0\n",
    "        i+=1\n",
    "    return estimate"
   ]
  },
  {
   "cell_type": "code",
   "execution_count": 700,
   "id": "402da85f",
   "metadata": {},
   "outputs": [],
   "source": [
    "#items = [(0,45,5),(1,48,8),(2,35,3)]\n",
    "#capacity = 10 \n",
    "#taken = [1,0,0]\n",
    "#depth = 1\n",
    "#get_optimistic_estimate(items,capacity,taken)"
   ]
  },
  {
   "cell_type": "code",
   "execution_count": null,
   "id": "cbbf2901",
   "metadata": {},
   "outputs": [],
   "source": []
  },
  {
   "cell_type": "code",
   "execution_count": 701,
   "id": "ba0668c4",
   "metadata": {},
   "outputs": [],
   "source": [
    "def branch_and_bound(items,taken,room,value,depth,best_value,best_path):\n",
    "    #print(items)\n",
    "    estimate = get_optimistic_estimate(items,capacity,taken)\n",
    "\n",
    "    if estimate < best_value[0]:\n",
    "        return \n",
    "\n",
    "    if depth == len(items):\n",
    "        #print('Depth is {}'.format(depth))\n",
    "        #print('Path is {}'.format(taken))\n",
    "        #print('Roon is {}'.format(room))\n",
    "        if value > best_value[0]:\n",
    "            best_value[0] = value\n",
    "            best_path.append(taken)\n",
    "            #print(\"new best_value found {}\".format(best_value[0]))\n",
    "\n",
    "    else :\n",
    "        value_item = items[depth][1]\n",
    "        weight = items[depth][2]\n",
    "        #print('Assessing item with weight {} and value {}'.format(weight,value_item))\n",
    "        if weight>room:\n",
    "            branch_and_bound(items,taken+[0],room,value,depth+1,best_value,best_path)\n",
    "        else:\n",
    "            branch_and_bound(items,taken+[1],room-weight,value+value_item,depth+1,best_value,best_path)\n",
    "            branch_and_bound(items,taken+[0],room,value,depth+1,best_value,best_path)\n"
   ]
  },
  {
   "cell_type": "code",
   "execution_count": 702,
   "id": "59ba4189",
   "metadata": {},
   "outputs": [
    {
     "ename": "KeyboardInterrupt",
     "evalue": "",
     "output_type": "error",
     "traceback": [
      "\u001b[0;31m---------------------------------------------------------------------------\u001b[0m",
      "\u001b[0;31mKeyboardInterrupt\u001b[0m                         Traceback (most recent call last)",
      "Input \u001b[0;32mIn [702]\u001b[0m, in \u001b[0;36m<module>\u001b[0;34m\u001b[0m\n\u001b[1;32m      5\u001b[0m best_value \u001b[38;5;241m=\u001b[39m [\u001b[38;5;241m0\u001b[39m]\n\u001b[1;32m      6\u001b[0m best_path \u001b[38;5;241m=\u001b[39m []\n\u001b[0;32m----> 7\u001b[0m \u001b[43mbranch_and_bound\u001b[49m\u001b[43m(\u001b[49m\u001b[43mitems\u001b[49m\u001b[43m,\u001b[49m\u001b[43mtaken\u001b[49m\u001b[43m,\u001b[49m\u001b[43mroom\u001b[49m\u001b[43m,\u001b[49m\u001b[43mvalue\u001b[49m\u001b[43m,\u001b[49m\u001b[43mdepth\u001b[49m\u001b[43m,\u001b[49m\u001b[43mbest_value\u001b[49m\u001b[43m,\u001b[49m\u001b[43mbest_path\u001b[49m\u001b[43m)\u001b[49m\n",
      "Input \u001b[0;32mIn [701]\u001b[0m, in \u001b[0;36mbranch_and_bound\u001b[0;34m(items, taken, room, value, depth, best_value, best_path)\u001b[0m\n\u001b[1;32m     23\u001b[0m \u001b[38;5;28;01melse\u001b[39;00m:\n\u001b[1;32m     24\u001b[0m     branch_and_bound(items,taken\u001b[38;5;241m+\u001b[39m[\u001b[38;5;241m1\u001b[39m],room\u001b[38;5;241m-\u001b[39mweight,value\u001b[38;5;241m+\u001b[39mvalue_item,depth\u001b[38;5;241m+\u001b[39m\u001b[38;5;241m1\u001b[39m,best_value,best_path)\n\u001b[0;32m---> 25\u001b[0m     \u001b[43mbranch_and_bound\u001b[49m\u001b[43m(\u001b[49m\u001b[43mitems\u001b[49m\u001b[43m,\u001b[49m\u001b[43mtaken\u001b[49m\u001b[38;5;241;43m+\u001b[39;49m\u001b[43m[\u001b[49m\u001b[38;5;241;43m0\u001b[39;49m\u001b[43m]\u001b[49m\u001b[43m,\u001b[49m\u001b[43mroom\u001b[49m\u001b[43m,\u001b[49m\u001b[43mvalue\u001b[49m\u001b[43m,\u001b[49m\u001b[43mdepth\u001b[49m\u001b[38;5;241;43m+\u001b[39;49m\u001b[38;5;241;43m1\u001b[39;49m\u001b[43m,\u001b[49m\u001b[43mbest_value\u001b[49m\u001b[43m,\u001b[49m\u001b[43mbest_path\u001b[49m\u001b[43m)\u001b[49m\n",
      "Input \u001b[0;32mIn [701]\u001b[0m, in \u001b[0;36mbranch_and_bound\u001b[0;34m(items, taken, room, value, depth, best_value, best_path)\u001b[0m\n\u001b[1;32m     23\u001b[0m \u001b[38;5;28;01melse\u001b[39;00m:\n\u001b[1;32m     24\u001b[0m     branch_and_bound(items,taken\u001b[38;5;241m+\u001b[39m[\u001b[38;5;241m1\u001b[39m],room\u001b[38;5;241m-\u001b[39mweight,value\u001b[38;5;241m+\u001b[39mvalue_item,depth\u001b[38;5;241m+\u001b[39m\u001b[38;5;241m1\u001b[39m,best_value,best_path)\n\u001b[0;32m---> 25\u001b[0m     \u001b[43mbranch_and_bound\u001b[49m\u001b[43m(\u001b[49m\u001b[43mitems\u001b[49m\u001b[43m,\u001b[49m\u001b[43mtaken\u001b[49m\u001b[38;5;241;43m+\u001b[39;49m\u001b[43m[\u001b[49m\u001b[38;5;241;43m0\u001b[39;49m\u001b[43m]\u001b[49m\u001b[43m,\u001b[49m\u001b[43mroom\u001b[49m\u001b[43m,\u001b[49m\u001b[43mvalue\u001b[49m\u001b[43m,\u001b[49m\u001b[43mdepth\u001b[49m\u001b[38;5;241;43m+\u001b[39;49m\u001b[38;5;241;43m1\u001b[39;49m\u001b[43m,\u001b[49m\u001b[43mbest_value\u001b[49m\u001b[43m,\u001b[49m\u001b[43mbest_path\u001b[49m\u001b[43m)\u001b[49m\n",
      "    \u001b[0;31m[... skipping similar frames: branch_and_bound at line 25 (2 times)]\u001b[0m\n",
      "Input \u001b[0;32mIn [701]\u001b[0m, in \u001b[0;36mbranch_and_bound\u001b[0;34m(items, taken, room, value, depth, best_value, best_path)\u001b[0m\n\u001b[1;32m     22\u001b[0m     branch_and_bound(items,taken\u001b[38;5;241m+\u001b[39m[\u001b[38;5;241m0\u001b[39m],room,value,depth\u001b[38;5;241m+\u001b[39m\u001b[38;5;241m1\u001b[39m,best_value,best_path)\n\u001b[1;32m     23\u001b[0m \u001b[38;5;28;01melse\u001b[39;00m:\n\u001b[0;32m---> 24\u001b[0m     \u001b[43mbranch_and_bound\u001b[49m\u001b[43m(\u001b[49m\u001b[43mitems\u001b[49m\u001b[43m,\u001b[49m\u001b[43mtaken\u001b[49m\u001b[38;5;241;43m+\u001b[39;49m\u001b[43m[\u001b[49m\u001b[38;5;241;43m1\u001b[39;49m\u001b[43m]\u001b[49m\u001b[43m,\u001b[49m\u001b[43mroom\u001b[49m\u001b[38;5;241;43m-\u001b[39;49m\u001b[43mweight\u001b[49m\u001b[43m,\u001b[49m\u001b[43mvalue\u001b[49m\u001b[38;5;241;43m+\u001b[39;49m\u001b[43mvalue_item\u001b[49m\u001b[43m,\u001b[49m\u001b[43mdepth\u001b[49m\u001b[38;5;241;43m+\u001b[39;49m\u001b[38;5;241;43m1\u001b[39;49m\u001b[43m,\u001b[49m\u001b[43mbest_value\u001b[49m\u001b[43m,\u001b[49m\u001b[43mbest_path\u001b[49m\u001b[43m)\u001b[49m\n\u001b[1;32m     25\u001b[0m     branch_and_bound(items,taken\u001b[38;5;241m+\u001b[39m[\u001b[38;5;241m0\u001b[39m],room,value,depth\u001b[38;5;241m+\u001b[39m\u001b[38;5;241m1\u001b[39m,best_value,best_path)\n",
      "    \u001b[0;31m[... skipping similar frames: branch_and_bound at line 25 (1 times)]\u001b[0m\n",
      "Input \u001b[0;32mIn [701]\u001b[0m, in \u001b[0;36mbranch_and_bound\u001b[0;34m(items, taken, room, value, depth, best_value, best_path)\u001b[0m\n\u001b[1;32m     22\u001b[0m     branch_and_bound(items,taken\u001b[38;5;241m+\u001b[39m[\u001b[38;5;241m0\u001b[39m],room,value,depth\u001b[38;5;241m+\u001b[39m\u001b[38;5;241m1\u001b[39m,best_value,best_path)\n\u001b[1;32m     23\u001b[0m \u001b[38;5;28;01melse\u001b[39;00m:\n\u001b[0;32m---> 24\u001b[0m     \u001b[43mbranch_and_bound\u001b[49m\u001b[43m(\u001b[49m\u001b[43mitems\u001b[49m\u001b[43m,\u001b[49m\u001b[43mtaken\u001b[49m\u001b[38;5;241;43m+\u001b[39;49m\u001b[43m[\u001b[49m\u001b[38;5;241;43m1\u001b[39;49m\u001b[43m]\u001b[49m\u001b[43m,\u001b[49m\u001b[43mroom\u001b[49m\u001b[38;5;241;43m-\u001b[39;49m\u001b[43mweight\u001b[49m\u001b[43m,\u001b[49m\u001b[43mvalue\u001b[49m\u001b[38;5;241;43m+\u001b[39;49m\u001b[43mvalue_item\u001b[49m\u001b[43m,\u001b[49m\u001b[43mdepth\u001b[49m\u001b[38;5;241;43m+\u001b[39;49m\u001b[38;5;241;43m1\u001b[39;49m\u001b[43m,\u001b[49m\u001b[43mbest_value\u001b[49m\u001b[43m,\u001b[49m\u001b[43mbest_path\u001b[49m\u001b[43m)\u001b[49m\n\u001b[1;32m     25\u001b[0m     branch_and_bound(items,taken\u001b[38;5;241m+\u001b[39m[\u001b[38;5;241m0\u001b[39m],room,value,depth\u001b[38;5;241m+\u001b[39m\u001b[38;5;241m1\u001b[39m,best_value,best_path)\n",
      "Input \u001b[0;32mIn [701]\u001b[0m, in \u001b[0;36mbranch_and_bound\u001b[0;34m(items, taken, room, value, depth, best_value, best_path)\u001b[0m\n\u001b[1;32m     20\u001b[0m \u001b[38;5;66;03m#print('Assessing item with weight {} and value {}'.format(weight,value_item))\u001b[39;00m\n\u001b[1;32m     21\u001b[0m \u001b[38;5;28;01mif\u001b[39;00m weight\u001b[38;5;241m>\u001b[39mroom:\n\u001b[0;32m---> 22\u001b[0m     \u001b[43mbranch_and_bound\u001b[49m\u001b[43m(\u001b[49m\u001b[43mitems\u001b[49m\u001b[43m,\u001b[49m\u001b[43mtaken\u001b[49m\u001b[38;5;241;43m+\u001b[39;49m\u001b[43m[\u001b[49m\u001b[38;5;241;43m0\u001b[39;49m\u001b[43m]\u001b[49m\u001b[43m,\u001b[49m\u001b[43mroom\u001b[49m\u001b[43m,\u001b[49m\u001b[43mvalue\u001b[49m\u001b[43m,\u001b[49m\u001b[43mdepth\u001b[49m\u001b[38;5;241;43m+\u001b[39;49m\u001b[38;5;241;43m1\u001b[39;49m\u001b[43m,\u001b[49m\u001b[43mbest_value\u001b[49m\u001b[43m,\u001b[49m\u001b[43mbest_path\u001b[49m\u001b[43m)\u001b[49m\n\u001b[1;32m     23\u001b[0m \u001b[38;5;28;01melse\u001b[39;00m:\n\u001b[1;32m     24\u001b[0m     branch_and_bound(items,taken\u001b[38;5;241m+\u001b[39m[\u001b[38;5;241m1\u001b[39m],room\u001b[38;5;241m-\u001b[39mweight,value\u001b[38;5;241m+\u001b[39mvalue_item,depth\u001b[38;5;241m+\u001b[39m\u001b[38;5;241m1\u001b[39m,best_value,best_path)\n",
      "    \u001b[0;31m[... skipping similar frames: branch_and_bound at line 25 (1 times)]\u001b[0m\n",
      "Input \u001b[0;32mIn [701]\u001b[0m, in \u001b[0;36mbranch_and_bound\u001b[0;34m(items, taken, room, value, depth, best_value, best_path)\u001b[0m\n\u001b[1;32m     20\u001b[0m \u001b[38;5;66;03m#print('Assessing item with weight {} and value {}'.format(weight,value_item))\u001b[39;00m\n\u001b[1;32m     21\u001b[0m \u001b[38;5;28;01mif\u001b[39;00m weight\u001b[38;5;241m>\u001b[39mroom:\n\u001b[0;32m---> 22\u001b[0m     \u001b[43mbranch_and_bound\u001b[49m\u001b[43m(\u001b[49m\u001b[43mitems\u001b[49m\u001b[43m,\u001b[49m\u001b[43mtaken\u001b[49m\u001b[38;5;241;43m+\u001b[39;49m\u001b[43m[\u001b[49m\u001b[38;5;241;43m0\u001b[39;49m\u001b[43m]\u001b[49m\u001b[43m,\u001b[49m\u001b[43mroom\u001b[49m\u001b[43m,\u001b[49m\u001b[43mvalue\u001b[49m\u001b[43m,\u001b[49m\u001b[43mdepth\u001b[49m\u001b[38;5;241;43m+\u001b[39;49m\u001b[38;5;241;43m1\u001b[39;49m\u001b[43m,\u001b[49m\u001b[43mbest_value\u001b[49m\u001b[43m,\u001b[49m\u001b[43mbest_path\u001b[49m\u001b[43m)\u001b[49m\n\u001b[1;32m     23\u001b[0m \u001b[38;5;28;01melse\u001b[39;00m:\n\u001b[1;32m     24\u001b[0m     branch_and_bound(items,taken\u001b[38;5;241m+\u001b[39m[\u001b[38;5;241m1\u001b[39m],room\u001b[38;5;241m-\u001b[39mweight,value\u001b[38;5;241m+\u001b[39mvalue_item,depth\u001b[38;5;241m+\u001b[39m\u001b[38;5;241m1\u001b[39m,best_value,best_path)\n",
      "    \u001b[0;31m[... skipping similar frames: branch_and_bound at line 22 (21 times), branch_and_bound at line 25 (16 times), branch_and_bound at line 24 (5 times)]\u001b[0m\n",
      "Input \u001b[0;32mIn [701]\u001b[0m, in \u001b[0;36mbranch_and_bound\u001b[0;34m(items, taken, room, value, depth, best_value, best_path)\u001b[0m\n\u001b[1;32m     23\u001b[0m \u001b[38;5;28;01melse\u001b[39;00m:\n\u001b[1;32m     24\u001b[0m     branch_and_bound(items,taken\u001b[38;5;241m+\u001b[39m[\u001b[38;5;241m1\u001b[39m],room\u001b[38;5;241m-\u001b[39mweight,value\u001b[38;5;241m+\u001b[39mvalue_item,depth\u001b[38;5;241m+\u001b[39m\u001b[38;5;241m1\u001b[39m,best_value,best_path)\n\u001b[0;32m---> 25\u001b[0m     \u001b[43mbranch_and_bound\u001b[49m\u001b[43m(\u001b[49m\u001b[43mitems\u001b[49m\u001b[43m,\u001b[49m\u001b[43mtaken\u001b[49m\u001b[38;5;241;43m+\u001b[39;49m\u001b[43m[\u001b[49m\u001b[38;5;241;43m0\u001b[39;49m\u001b[43m]\u001b[49m\u001b[43m,\u001b[49m\u001b[43mroom\u001b[49m\u001b[43m,\u001b[49m\u001b[43mvalue\u001b[49m\u001b[43m,\u001b[49m\u001b[43mdepth\u001b[49m\u001b[38;5;241;43m+\u001b[39;49m\u001b[38;5;241;43m1\u001b[39;49m\u001b[43m,\u001b[49m\u001b[43mbest_value\u001b[49m\u001b[43m,\u001b[49m\u001b[43mbest_path\u001b[49m\u001b[43m)\u001b[49m\n",
      "    \u001b[0;31m[... skipping similar frames: branch_and_bound at line 22 (1 times)]\u001b[0m\n",
      "Input \u001b[0;32mIn [701]\u001b[0m, in \u001b[0;36mbranch_and_bound\u001b[0;34m(items, taken, room, value, depth, best_value, best_path)\u001b[0m\n\u001b[1;32m     22\u001b[0m     branch_and_bound(items,taken\u001b[38;5;241m+\u001b[39m[\u001b[38;5;241m0\u001b[39m],room,value,depth\u001b[38;5;241m+\u001b[39m\u001b[38;5;241m1\u001b[39m,best_value,best_path)\n\u001b[1;32m     23\u001b[0m \u001b[38;5;28;01melse\u001b[39;00m:\n\u001b[0;32m---> 24\u001b[0m     \u001b[43mbranch_and_bound\u001b[49m\u001b[43m(\u001b[49m\u001b[43mitems\u001b[49m\u001b[43m,\u001b[49m\u001b[43mtaken\u001b[49m\u001b[38;5;241;43m+\u001b[39;49m\u001b[43m[\u001b[49m\u001b[38;5;241;43m1\u001b[39;49m\u001b[43m]\u001b[49m\u001b[43m,\u001b[49m\u001b[43mroom\u001b[49m\u001b[38;5;241;43m-\u001b[39;49m\u001b[43mweight\u001b[49m\u001b[43m,\u001b[49m\u001b[43mvalue\u001b[49m\u001b[38;5;241;43m+\u001b[39;49m\u001b[43mvalue_item\u001b[49m\u001b[43m,\u001b[49m\u001b[43mdepth\u001b[49m\u001b[38;5;241;43m+\u001b[39;49m\u001b[38;5;241;43m1\u001b[39;49m\u001b[43m,\u001b[49m\u001b[43mbest_value\u001b[49m\u001b[43m,\u001b[49m\u001b[43mbest_path\u001b[49m\u001b[43m)\u001b[49m\n\u001b[1;32m     25\u001b[0m     branch_and_bound(items,taken\u001b[38;5;241m+\u001b[39m[\u001b[38;5;241m0\u001b[39m],room,value,depth\u001b[38;5;241m+\u001b[39m\u001b[38;5;241m1\u001b[39m,best_value,best_path)\n",
      "    \u001b[0;31m[... skipping similar frames: branch_and_bound at line 22 (1 times)]\u001b[0m\n",
      "Input \u001b[0;32mIn [701]\u001b[0m, in \u001b[0;36mbranch_and_bound\u001b[0;34m(items, taken, room, value, depth, best_value, best_path)\u001b[0m\n\u001b[1;32m     20\u001b[0m \u001b[38;5;66;03m#print('Assessing item with weight {} and value {}'.format(weight,value_item))\u001b[39;00m\n\u001b[1;32m     21\u001b[0m \u001b[38;5;28;01mif\u001b[39;00m weight\u001b[38;5;241m>\u001b[39mroom:\n\u001b[0;32m---> 22\u001b[0m     \u001b[43mbranch_and_bound\u001b[49m\u001b[43m(\u001b[49m\u001b[43mitems\u001b[49m\u001b[43m,\u001b[49m\u001b[43mtaken\u001b[49m\u001b[38;5;241;43m+\u001b[39;49m\u001b[43m[\u001b[49m\u001b[38;5;241;43m0\u001b[39;49m\u001b[43m]\u001b[49m\u001b[43m,\u001b[49m\u001b[43mroom\u001b[49m\u001b[43m,\u001b[49m\u001b[43mvalue\u001b[49m\u001b[43m,\u001b[49m\u001b[43mdepth\u001b[49m\u001b[38;5;241;43m+\u001b[39;49m\u001b[38;5;241;43m1\u001b[39;49m\u001b[43m,\u001b[49m\u001b[43mbest_value\u001b[49m\u001b[43m,\u001b[49m\u001b[43mbest_path\u001b[49m\u001b[43m)\u001b[49m\n\u001b[1;32m     23\u001b[0m \u001b[38;5;28;01melse\u001b[39;00m:\n\u001b[1;32m     24\u001b[0m     branch_and_bound(items,taken\u001b[38;5;241m+\u001b[39m[\u001b[38;5;241m1\u001b[39m],room\u001b[38;5;241m-\u001b[39mweight,value\u001b[38;5;241m+\u001b[39mvalue_item,depth\u001b[38;5;241m+\u001b[39m\u001b[38;5;241m1\u001b[39m,best_value,best_path)\n",
      "Input \u001b[0;32mIn [701]\u001b[0m, in \u001b[0;36mbranch_and_bound\u001b[0;34m(items, taken, room, value, depth, best_value, best_path)\u001b[0m\n\u001b[1;32m      1\u001b[0m \u001b[38;5;28;01mdef\u001b[39;00m \u001b[38;5;21mbranch_and_bound\u001b[39m(items,taken,room,value,depth,best_value,best_path):\n\u001b[1;32m      2\u001b[0m     \u001b[38;5;66;03m#print(items)\u001b[39;00m\n\u001b[0;32m----> 3\u001b[0m     estimate \u001b[38;5;241m=\u001b[39m \u001b[43mget_optimistic_estimate\u001b[49m\u001b[43m(\u001b[49m\u001b[43mitems\u001b[49m\u001b[43m,\u001b[49m\u001b[43mcapacity\u001b[49m\u001b[43m,\u001b[49m\u001b[43mtaken\u001b[49m\u001b[43m)\u001b[49m\n\u001b[1;32m      5\u001b[0m     \u001b[38;5;28;01mif\u001b[39;00m estimate \u001b[38;5;241m<\u001b[39m best_value[\u001b[38;5;241m0\u001b[39m]:\n\u001b[1;32m      6\u001b[0m         \u001b[38;5;28;01mreturn\u001b[39;00m \n",
      "Input \u001b[0;32mIn [699]\u001b[0m, in \u001b[0;36mget_optimistic_estimate\u001b[0;34m(items, capacity, taken)\u001b[0m\n\u001b[1;32m      4\u001b[0m taken_extended \u001b[38;5;241m=\u001b[39m np\u001b[38;5;241m.\u001b[39marray(taken\u001b[38;5;241m+\u001b[39m(\u001b[38;5;28mlist\u001b[39m(np\u001b[38;5;241m.\u001b[39mzeros(n\u001b[38;5;241m-\u001b[39m\u001b[38;5;28mlen\u001b[39m(taken))\u001b[38;5;241m+\u001b[39m\u001b[38;5;241m1\u001b[39m)))\n\u001b[1;32m      5\u001b[0m mask \u001b[38;5;241m=\u001b[39m np\u001b[38;5;241m.\u001b[39mlogical_and(mask,taken_extended)\n\u001b[0;32m----> 8\u001b[0m items_considered_for_estimate \u001b[38;5;241m=\u001b[39m \u001b[43mnp\u001b[49m\u001b[38;5;241;43m.\u001b[39;49m\u001b[43marray\u001b[49m\u001b[43m(\u001b[49m\u001b[43mitems\u001b[49m\u001b[43m)\u001b[49m[mask]\n\u001b[1;32m     10\u001b[0m items_ranked_by_value_by_weight \u001b[38;5;241m=\u001b[39m items_considered_for_estimate[np\u001b[38;5;241m.\u001b[39margsort([\u001b[38;5;241m-\u001b[39mi[\u001b[38;5;241m1\u001b[39m]\u001b[38;5;241m/\u001b[39mi[\u001b[38;5;241m2\u001b[39m] \u001b[38;5;28;01mfor\u001b[39;00m i \u001b[38;5;129;01min\u001b[39;00m items_considered_for_estimate])]\n\u001b[1;32m     11\u001b[0m i \u001b[38;5;241m=\u001b[39m \u001b[38;5;241m0\u001b[39m\n",
      "\u001b[0;31mKeyboardInterrupt\u001b[0m: "
     ]
    }
   ],
   "source": [
    "value = 0\n",
    "room = capacity \n",
    "taken = []\n",
    "depth = 0\n",
    "best_value = [0]\n",
    "best_path = []\n",
    "branch_and_bound(items,taken,room,value,depth,best_value,best_path)"
   ]
  },
  {
   "cell_type": "code",
   "execution_count": 688,
   "id": "e05788be",
   "metadata": {},
   "outputs": [
    {
     "data": {
      "text/plain": [
       "[1, 0, 0, 1]"
      ]
     },
     "execution_count": 688,
     "metadata": {},
     "output_type": "execute_result"
    }
   ],
   "source": [
    "best_path[-1]"
   ]
  },
  {
   "cell_type": "code",
   "execution_count": 687,
   "id": "47f0cf1c",
   "metadata": {},
   "outputs": [
    {
     "data": {
      "text/plain": [
       "[44]"
      ]
     },
     "execution_count": 687,
     "metadata": {},
     "output_type": "execute_result"
    }
   ],
   "source": [
    "best_value"
   ]
  },
  {
   "cell_type": "code",
   "execution_count": 603,
   "id": "d1005fb3",
   "metadata": {},
   "outputs": [
    {
     "data": {
      "text/plain": [
       "[(0, 45, 5), (1, 48, 8), (2, 35, 3)]"
      ]
     },
     "execution_count": 603,
     "metadata": {},
     "output_type": "execute_result"
    }
   ],
   "source": [
    "items"
   ]
  },
  {
   "cell_type": "code",
   "execution_count": 453,
   "id": "0d260fef",
   "metadata": {},
   "outputs": [
    {
     "data": {
      "text/plain": [
       "4"
      ]
     },
     "execution_count": 453,
     "metadata": {},
     "output_type": "execute_result"
    }
   ],
   "source": [
    "a[~1]"
   ]
  },
  {
   "cell_type": "code",
   "execution_count": 630,
   "id": "026ce16c",
   "metadata": {},
   "outputs": [
    {
     "data": {
      "text/plain": [
       "10"
      ]
     },
     "execution_count": 630,
     "metadata": {},
     "output_type": "execute_result"
    }
   ],
   "source": [
    "capacity"
   ]
  },
  {
   "cell_type": "code",
   "execution_count": 462,
   "id": "db3e8085",
   "metadata": {},
   "outputs": [],
   "source": [
    "a = np.ma.array(a, mask=False)\n",
    "a.mask[[3,4]] = True"
   ]
  },
  {
   "cell_type": "code",
   "execution_count": 463,
   "id": "4a44606f",
   "metadata": {},
   "outputs": [
    {
     "data": {
      "text/plain": [
       "masked_array(data=[1, 2, 3, --, --],\n",
       "             mask=[False, False, False,  True,  True],\n",
       "       fill_value=999999)"
      ]
     },
     "execution_count": 463,
     "metadata": {},
     "output_type": "execute_result"
    }
   ],
   "source": [
    "a"
   ]
  },
  {
   "cell_type": "code",
   "execution_count": 464,
   "id": "74be62af",
   "metadata": {},
   "outputs": [
    {
     "data": {
      "text/plain": [
       "array([1, 2, 3])"
      ]
     },
     "execution_count": 464,
     "metadata": {},
     "output_type": "execute_result"
    }
   ],
   "source": [
    "a.data[~a.mask]"
   ]
  },
  {
   "cell_type": "code",
   "execution_count": null,
   "id": "9f10909b",
   "metadata": {},
   "outputs": [],
   "source": []
  }
 ],
 "metadata": {
  "kernelspec": {
   "display_name": "base_",
   "language": "python",
   "name": "base_"
  },
  "language_info": {
   "codemirror_mode": {
    "name": "ipython",
    "version": 3
   },
   "file_extension": ".py",
   "mimetype": "text/x-python",
   "name": "python",
   "nbconvert_exporter": "python",
   "pygments_lexer": "ipython3",
   "version": "3.9.15"
  }
 },
 "nbformat": 4,
 "nbformat_minor": 5
}
