{
 "cells": [
  {
   "cell_type": "code",
   "execution_count": 108,
   "id": "b1bbce71",
   "metadata": {},
   "outputs": [],
   "source": [
    "import pandas as pd\n",
    "import numpy as np \n",
    "import os\n",
    "import matplotlib.pyplot as plt"
   ]
  },
  {
   "cell_type": "code",
   "execution_count": 3,
   "id": "1d3a1796",
   "metadata": {},
   "outputs": [],
   "source": [
    "DATA_FOLDER = 'data/'"
   ]
  },
  {
   "cell_type": "code",
   "execution_count": 77,
   "id": "1eff8b35",
   "metadata": {},
   "outputs": [],
   "source": []
  },
  {
   "cell_type": "code",
   "execution_count": 79,
   "id": "4dfac94d",
   "metadata": {},
   "outputs": [],
   "source": [
    "def parse_input(input_data):\n",
    "\n",
    "    # parse the input\n",
    "    lines = input_data.split('\\n')\n",
    "\n",
    "    first_line = lines[0].split()\n",
    "    node_count = int(first_line[0])\n",
    "    edge_count = int(first_line[1])\n",
    "\n",
    "    edges = []\n",
    "    for i in range(1, edge_count + 1):\n",
    "        line = lines[i]\n",
    "        parts = line.split()\n",
    "        edges.append((int(parts[0]), int(parts[1])))\n",
    "        \n",
    "    return node_count,edge_count,edges"
   ]
  },
  {
   "cell_type": "code",
   "execution_count": 80,
   "id": "ec6c0654",
   "metadata": {},
   "outputs": [],
   "source": []
  },
  {
   "cell_type": "code",
   "execution_count": 81,
   "id": "59099d3a",
   "metadata": {},
   "outputs": [],
   "source": []
  },
  {
   "cell_type": "code",
   "execution_count": 82,
   "id": "6390977c",
   "metadata": {},
   "outputs": [],
   "source": []
  },
  {
   "cell_type": "code",
   "execution_count": 90,
   "id": "63f7816b",
   "metadata": {},
   "outputs": [],
   "source": []
  },
  {
   "cell_type": "code",
   "execution_count": 254,
   "id": "37722e81",
   "metadata": {},
   "outputs": [
    {
     "name": "stdout",
     "output_type": "stream",
     "text": [
      "File data/gc_50_5 : 50 nodes\n",
      "File data/gc_4_1 : 4 nodes\n",
      "File data/gc_50_3 : 50 nodes\n",
      "File data/gc_20_9 : 20 nodes\n",
      "File data/gc_20_7 : 20 nodes\n",
      "File data/gc_100_5 : 100 nodes\n",
      "File data/gc_20_1 : 20 nodes\n",
      "File data/gc_100_3 : 100 nodes\n",
      "File data/gc_70_9 : 70 nodes\n",
      "File data/gc_1000_1 : 1000 nodes\n",
      "File data/gc_500_3 : 500 nodes\n",
      "File data/gc_70_7 : 70 nodes\n",
      "File data/gc_250_3 : 250 nodes\n",
      "File data/gc_1000_7 : 1000 nodes\n",
      "File data/gc_500_5 : 500 nodes\n",
      "File data/gc_70_1 : 70 nodes\n",
      "File data/gc_1000_9 : 1000 nodes\n",
      "File data/gc_250_5 : 250 nodes\n",
      "File data/gc_50_1 : 50 nodes\n",
      "File data/gc_50_9 : 50 nodes\n",
      "File data/gc_50_7 : 50 nodes\n",
      "File data/gc_100_1 : 100 nodes\n",
      "File data/gc_20_3 : 20 nodes\n",
      "File data/gc_100_7 : 100 nodes\n",
      "File data/gc_100_9 : 100 nodes\n",
      "File data/gc_20_5 : 20 nodes\n",
      "File data/gc_250_7 : 250 nodes\n",
      "File data/gc_250_9 : 250 nodes\n",
      "File data/gc_500_9 : 500 nodes\n",
      "File data/gc_1000_5 : 1000 nodes\n",
      "File data/gc_500_7 : 500 nodes\n",
      "File data/gc_70_3 : 70 nodes\n",
      "File data/gc_250_1 : 250 nodes\n",
      "File data/gc_1000_3 : 1000 nodes\n",
      "File data/gc_500_1 : 500 nodes\n",
      "File data/gc_70_5 : 70 nodes\n"
     ]
    }
   ],
   "source": [
    "def explore(file_id):\n",
    "    \n",
    "    input_file = DATA_FOLDER+os.listdir(DATA_FOLDER)[file_id]\n",
    "    with open(input_file, 'r') as input_data_file:\n",
    "        input_data = input_data_file.read()\n",
    "    \n",
    "    node_count,edge_count,edges = parse_input(input_data)\n",
    "    print('File {} : {} nodes'.format(input_file,node_count))\n",
    "    return node_count\n",
    "for i in range(len(os.listdir(DATA_FOLDER))):\n",
    "    explore(i)"
   ]
  },
  {
   "cell_type": "markdown",
   "id": "49f8ae56",
   "metadata": {},
   "source": [
    "# Naive solution : Greedy Algorithm + Go Through Nodes w Highest degree first"
   ]
  },
  {
   "cell_type": "code",
   "execution_count": 277,
   "id": "f07feddc",
   "metadata": {},
   "outputs": [],
   "source": [
    "def naive(node_count,degrees,nodes_sorted_by_degree,adjacency_dic):\n",
    "    # Color each node with a new color that is available.\n",
    "    # 0 is colored with the color 0 to avoid symmetries. \n",
    "    coloring = {nodes_sorted_by_degree[0]:0}\n",
    "    for i in range(1,node_count):\n",
    "        node = nodes_sorted_by_degree[i]\n",
    "        colors_used =  {*coloring.values()}\n",
    "        # get the neighbors\n",
    "        neighbors = adjacency_dic[node]\n",
    "        colors_of_neighbors = set()\n",
    "        for neighbor in neighbors:\n",
    "            if neighbor in coloring:\n",
    "                colors_of_neighbors.add(coloring[neighbor]) \n",
    "        available_colors_among_the_ones_already_used = set(colors_used)-set(colors_of_neighbors)\n",
    "        if len(available_colors_among_the_ones_already_used)!=0:\n",
    "            color_to_assign = min(available_colors_among_the_ones_already_used)\n",
    "        else:\n",
    "            color_to_assign = max(colors_used)+1\n",
    "        coloring[node] = color_to_assign\n",
    "    color_count = len(np.unique([*coloring.values()]))\n",
    "    coloring_sorted = {k:coloring[k] for k in sorted([*coloring.keys()])}\n",
    "    solution = [*coloring_sorted.values()]\n",
    "    return color_count,solution"
   ]
  },
  {
   "cell_type": "code",
   "execution_count": 255,
   "id": "6e41cd53",
   "metadata": {},
   "outputs": [
    {
     "name": "stdout",
     "output_type": "stream",
     "text": [
      "File data/gc_50_5 : 50 nodes\n",
      "File data/gc_4_1 : 4 nodes\n",
      "File data/gc_50_3 : 50 nodes\n",
      "File data/gc_20_9 : 20 nodes\n",
      "File data/gc_20_7 : 20 nodes\n",
      "File data/gc_100_5 : 100 nodes\n",
      "File data/gc_20_1 : 20 nodes\n",
      "File data/gc_100_3 : 100 nodes\n",
      "File data/gc_70_9 : 70 nodes\n",
      "File data/gc_1000_1 : 1000 nodes\n",
      "File data/gc_500_3 : 500 nodes\n",
      "File data/gc_70_7 : 70 nodes\n",
      "File data/gc_250_3 : 250 nodes\n",
      "File data/gc_1000_7 : 1000 nodes\n",
      "File data/gc_500_5 : 500 nodes\n",
      "File data/gc_70_1 : 70 nodes\n",
      "File data/gc_1000_9 : 1000 nodes\n",
      "File data/gc_250_5 : 250 nodes\n",
      "File data/gc_50_1 : 50 nodes\n",
      "File data/gc_50_9 : 50 nodes\n",
      "File data/gc_50_7 : 50 nodes\n",
      "File data/gc_100_1 : 100 nodes\n",
      "File data/gc_20_3 : 20 nodes\n",
      "File data/gc_100_7 : 100 nodes\n",
      "File data/gc_100_9 : 100 nodes\n",
      "File data/gc_20_5 : 20 nodes\n",
      "File data/gc_250_7 : 250 nodes\n",
      "File data/gc_250_9 : 250 nodes\n",
      "File data/gc_500_9 : 500 nodes\n",
      "File data/gc_1000_5 : 1000 nodes\n",
      "File data/gc_500_7 : 500 nodes\n",
      "File data/gc_70_3 : 70 nodes\n",
      "File data/gc_250_1 : 250 nodes\n",
      "File data/gc_1000_3 : 1000 nodes\n",
      "File data/gc_500_1 : 500 nodes\n",
      "File data/gc_70_5 : 70 nodes\n"
     ]
    }
   ],
   "source": [
    "no_sort = []\n",
    "sort_by_degree = []\n",
    "dsatur = []\n",
    "for i in range(len(os.listdir(DATA_FOLDER))):\n",
    "    node_count = explore(i)\n",
    "    if node_count<=250:\n",
    "        no_sort.append(solve_naive(i,False))\n",
    "        sort_by_degree.append(solve_naive(i,True))\n",
    "        dsatur.append(solve_dsatur(i))"
   ]
  },
  {
   "cell_type": "code",
   "execution_count": 257,
   "id": "b08d7338",
   "metadata": {},
   "outputs": [],
   "source": [
    "ratios = [sort_by_degree[i]/no_sort[i] for i in range(len(sort_by_degree))]\n",
    "ratios_2 = [dsatur[i]/no_sort[i] for i in range(len(sort_by_degree))]"
   ]
  },
  {
   "cell_type": "code",
   "execution_count": 259,
   "id": "c14fc5d6",
   "metadata": {},
   "outputs": [
    {
     "data": {
      "image/png": "[encoded data removed]",
      "text/plain": [
       "<Figure size 432x288 with 1 Axes>"
      ]
     },
     "metadata": {
      "needs_background": "light"
     },
     "output_type": "display_data"
    }
   ],
   "source": [
    "plt.plot(no_sort,label='NoSort')\n",
    "plt.plot(sort_by_degree,label='SortedByDegree')\n",
    "plt.plot(dsatur,label='DSatur')\n",
    "plt.legend()\n",
    "plt.show()"
   ]
  },
  {
   "cell_type": "code",
   "execution_count": 260,
   "id": "63cae958",
   "metadata": {},
   "outputs": [
    {
     "data": {
      "image/png": "[encoded data removed]",
      "text/plain": [
       "<Figure size 432x288 with 1 Axes>"
      ]
     },
     "metadata": {
      "needs_background": "light"
     },
     "output_type": "display_data"
    }
   ],
   "source": [
    "plt.plot(ratios,label='Ratio_SortedvsNonSorted')\n",
    "plt.plot(ratios_2,label='Ratio_DSaturVsNonSorted')\n",
    "\n",
    "plt.legend()\n",
    "plt.show()"
   ]
  },
  {
   "cell_type": "markdown",
   "id": "63a4093c",
   "metadata": {},
   "source": [
    "## Ok, as expected greedy algorithm is terrible. I get 3/10 everywhere with this. \n",
    "## Ranking however gives 10% better performance on average ! Enough to get 7/10 on 4 out of the 6 assignments. \n",
    "## Note : Careful not to forget the [::-1] after argsort to have the correct ranking :)"
   ]
  },
  {
   "cell_type": "markdown",
   "id": "012fbbfb",
   "metadata": {},
   "source": [
    "## Next step is DSatur algorithm. Should be a bit better than the naive solution. \n",
    "## Update : this was indeed better but not on all instances. Best thing I found was to try the three each time (still pretty fast) and get the best. "
   ]
  },
  {
   "cell_type": "code",
   "execution_count": null,
   "id": "bc72c7fd",
   "metadata": {},
   "outputs": [],
   "source": []
  },
  {
   "cell_type": "code",
   "execution_count": 115,
   "id": "4cb9c281",
   "metadata": {},
   "outputs": [
    {
     "data": {
      "text/plain": [
       "[3, 2, 1]"
      ]
     },
     "execution_count": 115,
     "metadata": {},
     "output_type": "execute_result"
    }
   ],
   "source": [
    "[1,2,3][::-1]"
   ]
  },
  {
   "cell_type": "markdown",
   "id": "dacfc88e",
   "metadata": {},
   "source": [
    "## Trying to compute a lower bound - Hoffman Bound"
   ]
  },
  {
   "cell_type": "code",
   "execution_count": 192,
   "id": "636788f6",
   "metadata": {},
   "outputs": [],
   "source": [
    "def get_hoffman_bound(file_id):\n",
    "    input_file = DATA_FOLDER+os.listdir(DATA_FOLDER)[file_id]\n",
    "    with open(input_file, 'r') as input_data_file:\n",
    "        input_data = input_data_file.read()\n",
    "    \n",
    "    node_count,edge_count,edges = parse_input(input_data)\n",
    "    if node_count<=250:\n",
    "        # I build an adjacency dictionary giving the neighbors of each node\n",
    "        adjacency_dic = {k:set() for k in range(node_count)}\n",
    "        for edge in edges:\n",
    "            node_1 = edge[0]\n",
    "            node_2 = edge[1]\n",
    "            adjacency_dic[node_1].add(node_2)\n",
    "            adjacency_dic[node_2].add(node_1)\n",
    "        degrees = [len(adjacency_dic[k]) for k in adjacency_dic]\n",
    "        nodes_sorted_by_degree = np.argsort(degrees)[::-1] if sort_by_degree else range(node_count)\n",
    "        adjacency_matrix = np.zeros((node_count,node_count))\n",
    "        for edge in edges :\n",
    "            i,j = edge\n",
    "            adjacency_matrix[i,j] = 1\n",
    "            adjacency_matrix[j,i] = 1\n",
    "            eigenvalues = np.linalg.eigvals(adjacency_matrix)\n",
    "        lambda_max = max(eigenvalues)\n",
    "        lambda_min = min(eigenvalues)\n",
    "        bound = int(np.ceil(1 - lambda_max/lambda_min))\n",
    "        return bound\n",
    "    else: \n",
    "        0"
   ]
  },
  {
   "cell_type": "code",
   "execution_count": 176,
   "id": "4fba8b65",
   "metadata": {},
   "outputs": [
    {
     "data": {
      "text/plain": [
       "5"
      ]
     },
     "execution_count": 176,
     "metadata": {},
     "output_type": "execute_result"
    }
   ],
   "source": [
    "get_hoffman_bound(0)"
   ]
  },
  {
   "cell_type": "code",
   "execution_count": 168,
   "id": "818f71e4",
   "metadata": {},
   "outputs": [
    {
     "data": {
      "text/plain": [
       "array([[0., 0., 0., ..., 0., 1., 0.],\n",
       "       [0., 0., 0., ..., 0., 1., 1.],\n",
       "       [0., 0., 0., ..., 0., 1., 0.],\n",
       "       ...,\n",
       "       [0., 0., 0., ..., 0., 1., 1.],\n",
       "       [1., 1., 1., ..., 1., 0., 0.],\n",
       "       [0., 1., 0., ..., 1., 0., 0.]])"
      ]
     },
     "execution_count": 168,
     "metadata": {},
     "output_type": "execute_result"
    }
   ],
   "source": [
    "adjacency_matrix"
   ]
  },
  {
   "cell_type": "code",
   "execution_count": 172,
   "id": "520a2d49",
   "metadata": {},
   "outputs": [],
   "source": []
  },
  {
   "cell_type": "code",
   "execution_count": 173,
   "id": "eec10689",
   "metadata": {},
   "outputs": [
    {
     "data": {
      "text/plain": [
       "5"
      ]
     },
     "execution_count": 173,
     "metadata": {},
     "output_type": "execute_result"
    }
   ],
   "source": [
    "bound"
   ]
  },
  {
   "cell_type": "code",
   "execution_count": 153,
   "id": "4ba3228b",
   "metadata": {},
   "outputs": [
    {
     "data": {
      "text/plain": [
       "[19, 26, 31]"
      ]
     },
     "execution_count": 153,
     "metadata": {},
     "output_type": "execute_result"
    }
   ],
   "source": [
    "sigma_array"
   ]
  },
  {
   "cell_type": "code",
   "execution_count": 149,
   "id": "66732ab7",
   "metadata": {},
   "outputs": [
    {
     "data": {
      "text/plain": [
       "[50, 35]"
      ]
     },
     "execution_count": 149,
     "metadata": {},
     "output_type": "execute_result"
    }
   ],
   "source": [
    "sigma_array"
   ]
  },
  {
   "cell_type": "code",
   "execution_count": 274,
   "id": "ddbedb7e",
   "metadata": {},
   "outputs": [],
   "source": [
    "def solve_dsatur(node_count,degrees,nodes_sorted_by_degree,adjacency_dic):\n",
    "    color_count = solve_dsatur\n",
    "    # 0 is colored with the color 0 to avoid symmetries. \n",
    "    coloring = {nodes_sorted_by_degree[0]:0}\n",
    "    # Beginning is the same as naive. Ok all good. \n",
    "    uncolored_nodes = list(nodes_sorted_by_degree[1:])\n",
    "    \n",
    "    def get_colored(list_of_nodes,coloring):\n",
    "        all_colored = [*coloring.keys()]\n",
    "        return [el for el in list_of_nodes if el in all_colored]\n",
    "    def choose_next_node(uncolored_nodes,coloring):\n",
    "        degrees_of_saturation = {k:len(get_colored(adjacency_dic[k],coloring)) for k in uncolored_nodes}\n",
    "        max_degrees_of_saturation = max(degrees_of_saturation.values())\n",
    "        candidates = {k:degrees[k] for k in degrees_of_saturation if degrees_of_saturation[k] == max_degrees_of_saturation}\n",
    "        max_degree_in_candidates = max(candidates.values())\n",
    "        final_candidates = [k for k in candidates if candidates[k]==max_degree_in_candidates]\n",
    "        return final_candidates[0]\n",
    "    \n",
    "    \n",
    "    while len(uncolored_nodes)>0:\n",
    "        node = choose_next_node(uncolored_nodes,coloring)\n",
    "        colors_used =  {*coloring.values()}\n",
    "        # get the neighbors\n",
    "        neighbors = adjacency_dic[node]\n",
    "        colors_of_neighbors = set()\n",
    "        for neighbor in neighbors:\n",
    "            if neighbor in coloring:\n",
    "                colors_of_neighbors.add(coloring[neighbor]) \n",
    "        available_colors_among_the_ones_already_used = set(colors_used)-set(colors_of_neighbors)\n",
    "        if len(available_colors_among_the_ones_already_used)!=0:\n",
    "            color_to_assign = min(available_colors_among_the_ones_already_used)\n",
    "        else:\n",
    "            color_to_assign = max(colors_used)+1\n",
    "        coloring[node] = color_to_assign\n",
    "        uncolored_nodes.remove(node)\n",
    "    color_count = len(np.unique([*coloring.values()]))\n",
    "    coloring_sorted = {k:coloring[k] for k in sorted([*coloring.keys()])}\n",
    "    solution = [*coloring_sorted.values()]\n",
    "    return color_count,solution"
   ]
  },
  {
   "cell_type": "code",
   "execution_count": 278,
   "id": "0295ff31",
   "metadata": {},
   "outputs": [],
   "source": [
    "def solve_it(file_id):\n",
    "    input_file = DATA_FOLDER+os.listdir(DATA_FOLDER)[file_id]\n",
    "    with open(input_file, 'r') as input_data_file:\n",
    "        input_data = input_data_file.read()\n",
    "    \n",
    "    node_count,edge_count,edges = parse_input(input_data)\n",
    "    # I build an adjacency dictionary giving the neighbors of each node\n",
    "    adjacency_dic = {k:set() for k in range(node_count)}\n",
    "    for edge in edges:\n",
    "        node_1 = edge[0]\n",
    "        node_2 = edge[1]\n",
    "        adjacency_dic[node_1].add(node_2)\n",
    "        adjacency_dic[node_2].add(node_1)\n",
    "    degrees = [len(adjacency_dic[k]) for k in adjacency_dic]\n",
    "    nodes_sorted_by_degree = np.argsort(degrees)[::-1]\n",
    "    \n",
    "    color_count_dsatur,solution_dsatur = solve_dsatur(node_count,degrees,nodes_sorted_by_degree,adjacency_dic)\n",
    "    color_count_naive,solution_naive = naive(node_count,degrees,range(node_count),adjacency_dic)\n",
    "    color_count_naive_sorted,solution_naive_sorted = naive(node_count,degrees,nodes_sorted_by_degree,adjacency_dic)\n",
    "    \n",
    "    print('Naive : {}'.format(color_count_naive))\n",
    "    print('Naive + Sorting : {}'.format(color_count_naive_sorted))\n",
    "    print('DSatur : {}'.format(color_count_dsatur))\n",
    "    \n",
    "    return color_count"
   ]
  },
  {
   "cell_type": "code",
   "execution_count": 279,
   "id": "2f86017b",
   "metadata": {},
   "outputs": [
    {
     "name": "stdout",
     "output_type": "stream",
     "text": [
      "Naive : 4\n",
      "Naive + Sorting : 3\n",
      "DSatur : 3\n"
     ]
    },
    {
     "data": {
      "text/plain": [
       "15"
      ]
     },
     "execution_count": 279,
     "metadata": {},
     "output_type": "execute_result"
    }
   ],
   "source": [
    "solve_it(6)"
   ]
  },
  {
   "cell_type": "code",
   "execution_count": 236,
   "id": "b0549c2f",
   "metadata": {},
   "outputs": [
    {
     "data": {
      "text/plain": [
       "30"
      ]
     },
     "execution_count": 236,
     "metadata": {},
     "output_type": "execute_result"
    }
   ],
   "source": [
    "degrees[44]"
   ]
  },
  {
   "cell_type": "code",
   "execution_count": 287,
   "id": "c91905e0",
   "metadata": {},
   "outputs": [
    {
     "data": {
      "text/plain": [
       "False"
      ]
     },
     "execution_count": 287,
     "metadata": {},
     "output_type": "execute_result"
    }
   ],
   "source": [
    "np.all([(n in coloring) for n in range(5)])"
   ]
  },
  {
   "cell_type": "markdown",
   "id": "56adf30f",
   "metadata": {},
   "source": [
    "## Backtracking Algo. The idea is basically to explore the tree of all possibilities and prune when contraints are not respected.\n",
    "### We are going to write an algo that checks for m-coloring actually. The idea being that we get an upper bound with the greedy algo and then test lower chromatic numbers with the following algo. "
   ]
  },
  {
   "cell_type": "code",
   "execution_count": 292,
   "id": "3c6ec491",
   "metadata": {},
   "outputs": [],
   "source": [
    "def check_constraint(considered_node,adjacency_dic,candidate_color,coloring):\n",
    "    # For a considered node, will get all the neighbors, get the colors they are colored in and check if there \n",
    "    # is a conflict with the candidate color\n",
    "    neighbors = adjacency_dic[considered_node]\n",
    "    colors_of_neighbors = set()\n",
    "    for neighbor in neighbors:\n",
    "        if neighbor in coloring:\n",
    "            colors_of_neighbors.add(coloring[neighbor]) \n",
    "    return False if candidate_color in colors_of_neighbors else True"
   ]
  },
  {
   "cell_type": "code",
   "execution_count": 352,
   "id": "5b6b560c",
   "metadata": {},
   "outputs": [],
   "source": [
    "def explore_tree(considered_node_index,nodes_sorted_by_degree,coloring,adjacency_dic,max_colors=100):\n",
    "\n",
    "    \n",
    "    #Base Case : if all vertices are colored\n",
    "    if np.all([n in coloring for n in range(node_count)]):\n",
    "        return coloring\n",
    "    # Else look at the next node \n",
    "    considered_node = nodes_sorted_by_degree[considered_node_index]\n",
    "    #print(considered_node_index)\n",
    "    #print(nodes_sorted_by_degree)\n",
    "    #If base case was not activated, iterate through the colors, try to color if possible\n",
    "    #print(coloring)\n",
    "    for candidate_color in range(max_colors):\n",
    "        coloring_is_valid = check_constraint(considered_node,adjacency_dic,candidate_color,coloring)\n",
    "        if coloring_is_valid:\n",
    "            # Color with the color that is valide\n",
    "            coloring[considered_node] = candidate_color\n",
    "            # Check further down the tree\n",
    "            if explore_tree(considered_node_index+1,nodes_sorted_by_degree,coloring,adjacency_dic,max_colors):\n",
    "                return coloring\n",
    "            # Un-color (this is backtracking)\n",
    "            del coloring[considered_node]\n",
    "    # This would mean that all colors were considered\n",
    "    return False\n",
    "        \n",
    "    "
   ]
  },
  {
   "cell_type": "code",
   "execution_count": 380,
   "id": "76c7abbf",
   "metadata": {},
   "outputs": [],
   "source": [
    "def solve_backtracking(node_count,degrees,nodes_sorted_by_degree,adjacency_dic):\n",
    "    upper_bound,_ = naive(node_count,degrees,nodes_sorted_by_degree,adjacency_dic)\n",
    "    coloring = {nodes_sorted_by_degree[0]:0}  \n",
    "    return explore_tree(1,nodes_sorted_by_degree,coloring,adjacency_dic,upper_bound-1)"
   ]
  },
  {
   "cell_type": "code",
   "execution_count": 381,
   "id": "ff2cdf29",
   "metadata": {},
   "outputs": [],
   "source": [
    "####### DEBUG\n",
    "file_id = 1"
   ]
  },
  {
   "cell_type": "code",
   "execution_count": 382,
   "id": "a5e86d0d",
   "metadata": {},
   "outputs": [],
   "source": [
    "    input_file = DATA_FOLDER+os.listdir(DATA_FOLDER)[file_id]\n",
    "    with open(input_file, 'r') as input_data_file:\n",
    "        input_data = input_data_file.read()\n",
    "    \n",
    "    node_count,edge_count,edges = parse_input(input_data)\n",
    "    # I build an adjacency dictionary giving the neighbors of each node\n",
    "    adjacency_dic = {k:set() for k in range(node_count)}\n",
    "    for edge in edges:\n",
    "        node_1 = edge[0]\n",
    "        node_2 = edge[1]\n",
    "        adjacency_dic[node_1].add(node_2)\n",
    "        adjacency_dic[node_2].add(node_1)\n",
    "    degrees = [len(adjacency_dic[k]) for k in adjacency_dic]\n",
    "    nodes_sorted_by_degree = np.argsort(degrees)[::-1]"
   ]
  },
  {
   "cell_type": "code",
   "execution_count": 383,
   "id": "0d8c204c",
   "metadata": {},
   "outputs": [],
   "source": [
    "    coloring  = solve_backtracking(node_count,degrees,nodes_sorted_by_degree,adjacency_dic)"
   ]
  },
  {
   "cell_type": "code",
   "execution_count": 385,
   "id": "5bfd0415",
   "metadata": {},
   "outputs": [
    {
     "data": {
      "text/plain": [
       "False"
      ]
     },
     "execution_count": 385,
     "metadata": {},
     "output_type": "execute_result"
    }
   ],
   "source": [
    "coloring"
   ]
  },
  {
   "cell_type": "code",
   "execution_count": 386,
   "id": "238f35bb",
   "metadata": {},
   "outputs": [
    {
     "name": "stdout",
     "output_type": "stream",
     "text": [
      "Could not find a solution\n"
     ]
    }
   ],
   "source": [
    "if coloring:\n",
    "    coloring_sorted = {k:coloring[k] for k in sorted([*coloring.keys()])}\n",
    "    solution = [*coloring_sorted.values()]\n",
    "    print(solution)\n",
    "else:\n",
    "    print('Could not find a solution')"
   ]
  },
  {
   "cell_type": "code",
   "execution_count": 374,
   "id": "cf5c32ef",
   "metadata": {},
   "outputs": [],
   "source": [
    "upper_bound,naive_coloring = naive(node_count,degrees,nodes_sorted_by_degree,adjacency_dic)"
   ]
  }
 ],
 "metadata": {
  "kernelspec": {
   "display_name": "base_",
   "language": "python",
   "name": "base_"
  },
  "language_info": {
   "codemirror_mode": {
    "name": "ipython",
    "version": 3
   },
   "file_extension": ".py",
   "mimetype": "text/x-python",
   "name": "python",
   "nbconvert_exporter": "python",
   "pygments_lexer": "ipython3",
   "version": "3.9.15"
  }
 },
 "nbformat": 4,
 "nbformat_minor": 5
}
