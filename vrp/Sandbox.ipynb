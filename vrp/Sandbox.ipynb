{
 "cells": [
  {
   "cell_type": "code",
   "execution_count": 99,
   "id": "8504e022",
   "metadata": {},
   "outputs": [],
   "source": [
    "import numpy as np \n",
    "import pandas as pd\n",
    "import math\n",
    "import os\n",
    "from collections import namedtuple\n",
    "\n"
   ]
  },
  {
   "cell_type": "code",
   "execution_count": 123,
   "id": "76817fe0",
   "metadata": {},
   "outputs": [
    {
     "name": "stdout",
     "output_type": "stream",
     "text": [
      "['vrp_200_16_1', 'vrp_101_10_1', 'vrp_5_4_1', 'vrp_31_9_1', 'vrp_45_4_1', 'vrp_30_3_1', 'vrp_421_41_1', 'vrp_324_16_1', 'vrp_33_3_1', 'vrp_101_14_1', 'vrp_23_3_1', 'vrp_76_7_2', 'vrp_76_10_2', 'vrp_76_9_3', 'vrp_76_14_2', 'vrp_397_34_1', 'vrp_76_9_2', 'vrp_262_25_1', 'vrp_400_18_1', 'vrp_33_4_1', 'vrp_101_11_2', 'vrp_200_17_2', 'vrp_36_11_1', 'vrp_101_11_4', 'vrp_30_4_1', 'vrp_101_11_3', 'vrp_301_28_1', 'vrp_21_4_1', 'vrp_151_12_2', 'vrp_481_38_1', 'vrp_16_5_1', 'vrp_76_8_1', 'vrp_151_14_1', 'vrp_76_15_1', 'vrp_22_4_1', 'vrp_361_33_1', 'vrp_200_16_2', 'vrp_33_5_1', 'vrp_101_14_2', 'vrp_41_14_1', 'vrp_76_7_1', 'vrp_76_10_1', 'vrp_23_5_1', 'vrp_256_14_1', 'vrp_76_14_1', 'vrp_76_9_1', 'vrp_151_15_1', 'vrp_253_27_1', 'vrp_51_5_1', 'vrp_101_11_1', 'vrp_200_17_1', 'vrp_26_8_1', 'vrp_72_4_1', 'vrp_484_19_1', 'vrp_151_12_1', 'vrp_16_3_1', 'vrp_21_6_1', 'vrp_101_8_1', 'vrp_386_47_1', 'vrp_151_14_3', 'vrp_22_6_1', 'vrp_241_22_1', 'vrp_135_7_1', 'vrp_121_7_1', 'vrp_48_4_1', 'vrp_321_30_1', 'vrp_76_8_2', 'vrp_151_14_2']\n"
     ]
    }
   ],
   "source": [
    "print(os.listdir('data'))"
   ]
  },
  {
   "cell_type": "code",
   "execution_count": 100,
   "id": "1e4cf0e8",
   "metadata": {},
   "outputs": [],
   "source": [
    "from ortools.constraint_solver import routing_enums_pb2\n",
    "from ortools.constraint_solver import pywrapcp"
   ]
  },
  {
   "cell_type": "code",
   "execution_count": 101,
   "id": "5d242f83",
   "metadata": {},
   "outputs": [],
   "source": [
    "Customer = namedtuple(\"Customer\", ['index', 'demand', 'x', 'y'])"
   ]
  },
  {
   "cell_type": "code",
   "execution_count": 102,
   "id": "721cd734",
   "metadata": {},
   "outputs": [],
   "source": [
    "def length(customer1, customer2):\n",
    "    return math.sqrt((customer1.x - customer2.x)**2 + (customer1.y - customer2.y)**2)"
   ]
  },
  {
   "cell_type": "code",
   "execution_count": 103,
   "id": "ae97c12b",
   "metadata": {},
   "outputs": [],
   "source": [
    "def parse_data(input_data):\n",
    "    # parse the input\n",
    "    lines = input_data.split('\\n')\n",
    "\n",
    "    parts = lines[0].split()\n",
    "    customer_count = int(parts[0])\n",
    "    vehicle_count = int(parts[1])\n",
    "    vehicle_capacity = int(parts[2])\n",
    "    \n",
    "    customers = []\n",
    "    for i in range(1, customer_count+1):\n",
    "        line = lines[i]\n",
    "        parts = line.split()\n",
    "        customers.append(Customer(i-1, int(parts[0]), float(parts[1]), float(parts[2])))\n",
    "\n",
    "    #the depot is always the first customer in the input\n",
    "    depot = customers[0] \n",
    "    return customer_count,vehicle_count,vehicle_capacity,customers,depot"
   ]
  },
  {
   "cell_type": "code",
   "execution_count": 104,
   "id": "49957cc6",
   "metadata": {},
   "outputs": [],
   "source": [
    "def get_input_data(index):\n",
    "    file_location = 'data/'+os.listdir('data')[index]\n",
    "    with open(file_location, 'r') as input_data_file:\n",
    "        input_data = input_data_file.read()\n",
    "    return input_data"
   ]
  },
  {
   "cell_type": "code",
   "execution_count": 135,
   "id": "27e7e518",
   "metadata": {},
   "outputs": [],
   "source": [
    "customer_count,vehicle_count,vehicle_capacity,customers,depot  = parse_data(get_input_data(-13))"
   ]
  },
  {
   "cell_type": "code",
   "execution_count": null,
   "id": "ea2a4390",
   "metadata": {},
   "outputs": [],
   "source": []
  },
  {
   "cell_type": "code",
   "execution_count": 136,
   "id": "d8a107b5",
   "metadata": {},
   "outputs": [],
   "source": [
    "def get_distance_matrix(customer_count,customers):\n",
    "    distance_matrix = np.zeros((customer_count,customer_count))\n",
    "    for i in range(customer_count):\n",
    "        for j in range(i,customer_count):\n",
    "            d = length(customers[i],customers[j])\n",
    "            distance_matrix[i,j] = d\n",
    "            distance_matrix[j,i] = d\n",
    "    return distance_matrix"
   ]
  },
  {
   "cell_type": "code",
   "execution_count": 137,
   "id": "8eba55ce",
   "metadata": {},
   "outputs": [],
   "source": [
    "def create_data_model(customer_count,vehicle_count,vehicle_capacity,customers):\n",
    "    \"\"\"Stores the data for the problem.\"\"\"\n",
    "    data = {}\n",
    "    data['distance_matrix'] = get_distance_matrix(customer_count,customers)\n",
    "    data['num_vehicles'] = vehicle_count\n",
    "    data['demands'] = [c.demand for c in customers]\n",
    "    data['vehicle_capacities'] = [vehicle_capacity]*vehicle_count\n",
    "    data['depot'] = 0\n",
    "    return data"
   ]
  },
  {
   "cell_type": "code",
   "execution_count": 138,
   "id": "51ae5c45",
   "metadata": {},
   "outputs": [],
   "source": [
    "def print_solution(data, manager, routing, solution):\n",
    "    \"\"\"Prints solution on console.\"\"\"\n",
    "    print(f'Objective: {solution.ObjectiveValue()}')\n",
    "    total_distance = 0\n",
    "    total_load = 0\n",
    "    for vehicle_id in range(data['num_vehicles']):\n",
    "        index = routing.Start(vehicle_id)\n",
    "        plan_output = 'Route for vehicle {}:\\n'.format(vehicle_id)\n",
    "        route_distance = 0\n",
    "        route_load = 0\n",
    "        while not routing.IsEnd(index):\n",
    "            node_index = manager.IndexToNode(index)\n",
    "            route_load += data['demands'][node_index]\n",
    "            plan_output += ' {0} Load({1}) -> '.format(node_index, route_load)\n",
    "            previous_index = index\n",
    "            index = solution.Value(routing.NextVar(index))\n",
    "            route_distance += routing.GetArcCostForVehicle(\n",
    "                previous_index, index, vehicle_id)\n",
    "        plan_output += ' {0} Load({1})\\n'.format(manager.IndexToNode(index),\n",
    "                                                 route_load)\n",
    "        plan_output += 'Distance of the route: {}m\\n'.format(route_distance)\n",
    "        plan_output += 'Load of the route: {}\\n'.format(route_load)\n",
    "        print(plan_output)\n",
    "        total_distance += route_distance\n",
    "        total_load += route_load\n",
    "    print('Total distance of all routes: {}m'.format(total_distance))\n",
    "    print('Total load of all routes: {}'.format(total_load))"
   ]
  },
  {
   "cell_type": "code",
   "execution_count": 139,
   "id": "5db80c3b",
   "metadata": {},
   "outputs": [],
   "source": [
    "def main(customer_count,vehicle_count,vehicle_capacity,customers):\n",
    "    \"\"\"Solve the CVRP problem.\"\"\"\n",
    "    # Instantiate the data problem.\n",
    "    data = create_data_model(customer_count,vehicle_count,vehicle_capacity,customers)\n",
    "\n",
    "    # Create the routing index manager.\n",
    "    manager = pywrapcp.RoutingIndexManager(len(data['distance_matrix']),\n",
    "                                           data['num_vehicles'], data['depot'])\n",
    "\n",
    "    # Create Routing Model.\n",
    "    routing = pywrapcp.RoutingModel(manager)\n",
    "\n",
    "\n",
    "    # Create and register a transit callback.\n",
    "    def distance_callback(from_index, to_index):\n",
    "        \"\"\"Returns the distance between the two nodes.\"\"\"\n",
    "        # Convert from routing variable Index to distance matrix NodeIndex.\n",
    "        from_node = manager.IndexToNode(from_index)\n",
    "        to_node = manager.IndexToNode(to_index)\n",
    "        return data['distance_matrix'][from_node][to_node]\n",
    "\n",
    "    transit_callback_index = routing.RegisterTransitCallback(distance_callback)\n",
    "\n",
    "    # Define cost of each arc.\n",
    "    routing.SetArcCostEvaluatorOfAllVehicles(transit_callback_index)\n",
    "\n",
    "\n",
    "    # Add Capacity constraint.\n",
    "    def demand_callback(from_index):\n",
    "        \"\"\"Returns the demand of the node.\"\"\"\n",
    "        # Convert from routing variable Index to demands NodeIndex.\n",
    "        from_node = manager.IndexToNode(from_index)\n",
    "        return data['demands'][from_node]\n",
    "\n",
    "    demand_callback_index = routing.RegisterUnaryTransitCallback(\n",
    "        demand_callback)\n",
    "    routing.AddDimensionWithVehicleCapacity(\n",
    "        demand_callback_index,\n",
    "        0,  # null capacity slack\n",
    "        data['vehicle_capacities'],  # vehicle maximum capacities\n",
    "        True,  # start cumul to zero\n",
    "        'Capacity')\n",
    "\n",
    "    # Setting first solution heuristic.\n",
    "    search_parameters = pywrapcp.DefaultRoutingSearchParameters()\n",
    "    search_parameters.first_solution_strategy = (\n",
    "        routing_enums_pb2.FirstSolutionStrategy.PATH_CHEAPEST_ARC)\n",
    "    search_parameters.local_search_metaheuristic = (\n",
    "        routing_enums_pb2.LocalSearchMetaheuristic.GUIDED_LOCAL_SEARCH)\n",
    "    search_parameters.time_limit.FromSeconds(1)\n",
    "\n",
    "    # Solve the problem.\n",
    "    solution = routing.SolveWithParameters(search_parameters)\n",
    "\n",
    "    # Print solution on console.\n",
    "    #if solution:\n",
    "    #    print_solution(data, manager, routing, solution)\n",
    "    return routing,solution,manager"
   ]
  },
  {
   "cell_type": "code",
   "execution_count": 140,
   "id": "92ab9632",
   "metadata": {},
   "outputs": [],
   "source": [
    "routing,solution,manager = main(customer_count,vehicle_count,vehicle_capacity,customers)"
   ]
  },
  {
   "cell_type": "code",
   "execution_count": 141,
   "id": "0a9d79ec",
   "metadata": {},
   "outputs": [],
   "source": [
    "def get_obj_and_routes(solution,routing,manager,vehicle_count,customers):\n",
    "    obj = solution.ObjectiveValue()\n",
    "    vehicle_tours = [[] for i in range(vehicle_count)]\n",
    "    for vehicle_id in range(vehicle_count):\n",
    "        index = routing.Start(vehicle_id)\n",
    "        while not routing.IsEnd(index):\n",
    "            node_index = manager.IndexToNode(index)\n",
    "            previous_index = index\n",
    "            index = solution.Value(routing.NextVar(index))\n",
    "            vehicle_tours[vehicle_id].append(customers[node_index])\n",
    "        vehicle_tours[vehicle_id].append(customers[manager.IndexToNode(index)])\n",
    "    return obj,vehicle_tours"
   ]
  },
  {
   "cell_type": "code",
   "execution_count": 142,
   "id": "0aee8e6c",
   "metadata": {},
   "outputs": [],
   "source": [
    "obj,vehicle_tours = get_obj_and_routes(solution,routing,manager,vehicle_count,customers)"
   ]
  },
  {
   "cell_type": "code",
   "execution_count": 143,
   "id": "787b8ab8",
   "metadata": {},
   "outputs": [
    {
     "data": {
      "text/plain": [
       "278"
      ]
     },
     "execution_count": 143,
     "metadata": {},
     "output_type": "execute_result"
    }
   ],
   "source": [
    "obj"
   ]
  },
  {
   "cell_type": "code",
   "execution_count": 145,
   "id": "6bca27dd",
   "metadata": {},
   "outputs": [
    {
     "data": {
      "text/plain": [
       "[[Customer(index=0, demand=0, x=30.0, y=40.0),\n",
       "  Customer(index=2, demand=30, x=49.0, y=49.0),\n",
       "  Customer(index=3, demand=16, x=52.0, y=64.0),\n",
       "  Customer(index=8, demand=23, x=31.0, y=62.0),\n",
       "  Customer(index=7, demand=19, x=17.0, y=63.0),\n",
       "  Customer(index=0, demand=0, x=30.0, y=40.0)],\n",
       " [Customer(index=0, demand=0, x=30.0, y=40.0),\n",
       "  Customer(index=1, demand=7, x=37.0, y=52.0),\n",
       "  Customer(index=6, demand=15, x=21.0, y=47.0),\n",
       "  Customer(index=14, demand=21, x=12.0, y=42.0),\n",
       "  Customer(index=13, demand=23, x=5.0, y=25.0),\n",
       "  Customer(index=4, demand=9, x=20.0, y=26.0),\n",
       "  Customer(index=15, demand=10, x=36.0, y=16.0),\n",
       "  Customer(index=0, demand=0, x=30.0, y=40.0)],\n",
       " [Customer(index=0, demand=0, x=30.0, y=40.0),\n",
       "  Customer(index=11, demand=19, x=42.0, y=41.0),\n",
       "  Customer(index=9, demand=11, x=52.0, y=33.0),\n",
       "  Customer(index=10, demand=5, x=51.0, y=21.0),\n",
       "  Customer(index=5, demand=21, x=40.0, y=30.0),\n",
       "  Customer(index=12, demand=29, x=31.0, y=32.0),\n",
       "  Customer(index=0, demand=0, x=30.0, y=40.0)]]"
      ]
     },
     "execution_count": 145,
     "metadata": {},
     "output_type": "execute_result"
    }
   ],
   "source": [
    "vehicle_tours"
   ]
  },
  {
   "cell_type": "code",
   "execution_count": null,
   "id": "aa3985a8",
   "metadata": {},
   "outputs": [],
   "source": [
    "len(customers)"
   ]
  },
  {
   "cell_type": "code",
   "execution_count": null,
   "id": "3e3813de",
   "metadata": {},
   "outputs": [],
   "source": []
  },
  {
   "cell_type": "code",
   "execution_count": null,
   "id": "3d93e618",
   "metadata": {},
   "outputs": [],
   "source": []
  }
 ],
 "metadata": {
  "kernelspec": {
   "display_name": "Opt",
   "language": "python",
   "name": "opt"
  },
  "language_info": {
   "codemirror_mode": {
    "name": "ipython",
    "version": 3
   },
   "file_extension": ".py",
   "mimetype": "text/x-python",
   "name": "python",
   "nbconvert_exporter": "python",
   "pygments_lexer": "ipython3",
   "version": "3.9.15"
  }
 },
 "nbformat": 4,
 "nbformat_minor": 5
}
